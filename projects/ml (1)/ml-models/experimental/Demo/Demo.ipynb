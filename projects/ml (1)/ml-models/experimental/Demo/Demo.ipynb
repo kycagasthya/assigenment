{
 "cells": [
  {
   "cell_type": "code",
   "execution_count": 4,
   "id": "768fd957-cd95-419a-b2a2-8bc11cf03e8c",
   "metadata": {},
   "outputs": [],
   "source": [
    "sys.path.append('../')"
   ]
  },
  {
   "cell_type": "code",
   "execution_count": 5,
   "id": "10a4944f-07b1-41c7-90e2-65a124932c2f",
   "metadata": {},
   "outputs": [],
   "source": [
    "import sys\n",
    "from google.cloud import vision\n",
    "import proto\n",
    "import json\n",
    "from docai.models.pan_card.v1 import pan_parser\n",
    "import time\n",
    "from google.cloud import vision"
   ]
  },
  {
   "cell_type": "code",
   "execution_count": 6,
   "id": "7de95843-6950-4818-891c-beaa0ab4b1ef",
   "metadata": {},
   "outputs": [],
   "source": [
    "def bytes_detect_text(content: bytes) -> json:\n",
    "        \"\"\"\n",
    "        Uses vision OCR API to detect text in image.\n",
    "        Args:\n",
    "            Content: image in bytes.\n",
    "        Returns:\n",
    "            Json response\n",
    "        \"\"\"\n",
    "        client = vision.ImageAnnotatorClient()\n",
    "        image = vision.Image(content=content)\n",
    "\n",
    "        response = client.text_detection(image=image,\n",
    "            image_context={'language_hints': ['en']})\n",
    "        if response.error.message:\n",
    "            raise Exception(\n",
    "                f'{response.error.message}\\nFor more info on\\\n",
    "                    error messages, check: '\n",
    "                    'https://cloud.google.com/apis/design/errors')\n",
    "\n",
    "        json_string = proto.Message.to_json(response)\n",
    "        json_response = json.loads(json_string)\n",
    "        return json_response"
   ]
  },
  {
   "cell_type": "code",
   "execution_count": 7,
   "id": "c1acdf6f-c399-46fb-b316-855cdd72bf27",
   "metadata": {},
   "outputs": [],
   "source": [
    "with open(\"test_pan.png\", 'rb') as image_file:\n",
    "    content = image_file.read()"
   ]
  },
  {
   "cell_type": "code",
   "execution_count": 8,
   "id": "d07358dc-97b3-444c-bc0f-e3fb3925c932",
   "metadata": {},
   "outputs": [],
   "source": [
    " response = bytes_detect_text(content)"
   ]
  },
  {
   "cell_type": "code",
   "execution_count": 9,
   "id": "9cec430d-4183-44e1-80af-156105fea9fd",
   "metadata": {},
   "outputs": [],
   "source": [
    "# response"
   ]
  },
  {
   "cell_type": "code",
   "execution_count": 10,
   "id": "b437bcbc-e454-40b1-adab-76734fa6fee9",
   "metadata": {},
   "outputs": [
    {
     "name": "stdout",
     "output_type": "stream",
     "text": [
      "0.0009467000054428354\n",
      "{'pan_no': 'CEBY01033L', 'father_name': 'JIVIKA CHACKO', 'name': 'DHRUV GOLLA', 'date_of_birth': '29/10/1966', 'pan_check': 'False'}\n"
     ]
    }
   ],
   "source": [
    "start = time.perf_counter()\n",
    "a = pan_parser.JsonToEntities(response)\n",
    "b  = a.extract()\n",
    "end = time.perf_counter() - start\n",
    "print(end)\n",
    "print(b)"
   ]
  },
  {
   "cell_type": "code",
   "execution_count": null,
   "id": "327f3196-c506-4214-9343-7276b5d50174",
   "metadata": {},
   "outputs": [],
   "source": []
  }
 ],
 "metadata": {
  "environment": {
   "kernel": "python3",
   "name": "tf2-gpu.2-3.m89",
   "type": "gcloud",
   "uri": "gcr.io/deeplearning-platform-release/tf2-gpu.2-3:m89"
  },
  "kernelspec": {
   "display_name": "Python 3",
   "language": "python",
   "name": "python3"
  },
  "language_info": {
   "codemirror_mode": {
    "name": "ipython",
    "version": 3
   },
   "file_extension": ".py",
   "mimetype": "text/x-python",
   "name": "python",
   "nbconvert_exporter": "python",
   "pygments_lexer": "ipython3",
   "version": "3.7.12"
  }
 },
 "nbformat": 4,
 "nbformat_minor": 5
}
