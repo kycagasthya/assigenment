{
 "cells": [
  {
   "cell_type": "code",
   "execution_count": 1,
   "metadata": {},
   "outputs": [],
   "source": [
    "import pandas as pd\n",
    "import cv2\n",
    "import numpy as np\n",
    "import matplotlib.pyplot as plt"
   ]
  },
  {
   "cell_type": "code",
   "execution_count": 2,
   "metadata": {},
   "outputs": [
    {
     "data": {
      "text/html": [
       "<div>\n",
       "<style scoped>\n",
       "    .dataframe tbody tr th:only-of-type {\n",
       "        vertical-align: middle;\n",
       "    }\n",
       "\n",
       "    .dataframe tbody tr th {\n",
       "        vertical-align: top;\n",
       "    }\n",
       "\n",
       "    .dataframe thead th {\n",
       "        text-align: right;\n",
       "    }\n",
       "</style>\n",
       "<table border=\"1\" class=\"dataframe\">\n",
       "  <thead>\n",
       "    <tr style=\"text-align: right;\">\n",
       "      <th></th>\n",
       "      <th>split</th>\n",
       "      <th>path</th>\n",
       "      <th>gt_label</th>\n",
       "    </tr>\n",
       "  </thead>\n",
       "  <tbody>\n",
       "    <tr>\n",
       "      <th>0</th>\n",
       "      <td>TRAIN</td>\n",
       "      <td>gs://seagen-quantiphi/subset_1_1/export_data-s...</td>\n",
       "      <td>out_of_focus</td>\n",
       "    </tr>\n",
       "    <tr>\n",
       "      <th>1</th>\n",
       "      <td>TRAIN</td>\n",
       "      <td>gs://seagen-quantiphi/subset_1_1/export_data-s...</td>\n",
       "      <td>dim_positive</td>\n",
       "    </tr>\n",
       "    <tr>\n",
       "      <th>2</th>\n",
       "      <td>TRAIN</td>\n",
       "      <td>gs://seagen-quantiphi/subset_1_1/export_data-s...</td>\n",
       "      <td>HE</td>\n",
       "    </tr>\n",
       "    <tr>\n",
       "      <th>3</th>\n",
       "      <td>TRAIN</td>\n",
       "      <td>gs://seagen-quantiphi/subset_1_1/export_data-s...</td>\n",
       "      <td>dim_positive</td>\n",
       "    </tr>\n",
       "    <tr>\n",
       "      <th>4</th>\n",
       "      <td>TRAIN</td>\n",
       "      <td>gs://seagen-quantiphi/subset_1_1/export_data-s...</td>\n",
       "      <td>out_of_focus</td>\n",
       "    </tr>\n",
       "  </tbody>\n",
       "</table>\n",
       "</div>"
      ],
      "text/plain": [
       "   split                                               path      gt_label\n",
       "0  TRAIN  gs://seagen-quantiphi/subset_1_1/export_data-s...  out_of_focus\n",
       "1  TRAIN  gs://seagen-quantiphi/subset_1_1/export_data-s...  dim_positive\n",
       "2  TRAIN  gs://seagen-quantiphi/subset_1_1/export_data-s...            HE\n",
       "3  TRAIN  gs://seagen-quantiphi/subset_1_1/export_data-s...  dim_positive\n",
       "4  TRAIN  gs://seagen-quantiphi/subset_1_1/export_data-s...  out_of_focus"
      ]
     },
     "execution_count": 2,
     "metadata": {},
     "output_type": "execute_result"
    }
   ],
   "source": [
    "csv_path = \"/home/jupyter/subset_1_1/export_data-seagen_subset_1_1-2020-12-23T08:55:47.943745Z/image_classification_1.csv\"\n",
    "df = pd.read_csv(csv_path, header=None)\n",
    "df.rename(columns={0:\"split\", 1:\"path\", 2:\"gt_label\"}, inplace=True)\n",
    "df.head()"
   ]
  },
  {
   "cell_type": "code",
   "execution_count": 3,
   "metadata": {},
   "outputs": [
    {
     "name": "stdout",
     "output_type": "stream",
     "text": [
      "out_of_focus       1461\n",
      "no_tissue          1147\n",
      "HE                  781\n",
      "negative            769\n",
      "strong_positive     735\n",
      "dim_positive        442\n",
      "necrotic            232\n",
      "Name: gt_label, dtype: int64\n",
      "TRAIN         1175\n",
      "TEST           144\n",
      "VALIDATION     142\n",
      "Name: split, dtype: int64\n"
     ]
    }
   ],
   "source": [
    "print(df[\"gt_label\"].value_counts())\n",
    "print(df[df[\"gt_label\"] == \"out_of_focus\"][\"split\"].value_counts())"
   ]
  },
  {
   "cell_type": "markdown",
   "metadata": {},
   "source": [
    "## using Laplacian variance and Fourier transform as a measure to detect blurness of a image"
   ]
  },
  {
   "cell_type": "code",
   "execution_count": 9,
   "metadata": {},
   "outputs": [],
   "source": [
    "def var_of_laplacian(img,kernel_size=1):\n",
    "    gray = cv2.cvtColor(img, cv2.COLOR_BGR2GRAY)\n",
    "    # compute the Laplacian of the image and then return the focus\n",
    "    # measure, which is simply the variance of the Laplacian\n",
    "    return cv2.Laplacian(gray, cv2.CV_64F, ksize = kernel_size).var()\n",
    "\n",
    "def detect_blur_fft(image, size=60, thresh=10, vis=False):\n",
    "    image = cv2.cvtColor(image, cv2.COLOR_BGR2GRAY)\n",
    "    # grab the dimensions of the image and use the dimensions to\n",
    "    # derive the center (x, y)-coordinates\n",
    "    (h, w) = image.shape\n",
    "    (cX, cY) = (int(w / 2.0), int(h / 2.0))\n",
    "    fft = np.fft.fft2(image)\n",
    "    fftShift = np.fft.fftshift(fft)\n",
    "    # check to see if we are visualizing our output\n",
    "    if vis:\n",
    "        # compute the magnitude spectrum of the transform\n",
    "        magnitude = 20 * np.log(np.abs(fftShift))\n",
    "        # display the original input image\n",
    "        (fig, ax) = plt.subplots(1, 2, )\n",
    "        ax[0].imshow(image, cmap=\"gray\")\n",
    "        ax[0].set_title(\"Input\")\n",
    "        ax[0].set_xticks([])\n",
    "        ax[0].set_yticks([])\n",
    "        # display the magnitude image\n",
    "        ax[1].imshow(magnitude, cmap=\"gray\")\n",
    "        ax[1].set_title(\"Magnitude Spectrum\")\n",
    "        ax[1].set_xticks([])\n",
    "        ax[1].set_yticks([])\n",
    "        # show our plots\n",
    "        plt.show()\n",
    "    fftShift[cY - size:cY + size, cX - size:cX + size] = 0\n",
    "    fftShift = np.fft.ifftshift(fftShift)\n",
    "    recon = np.fft.ifft2(fftShift)\n",
    "    \n",
    "    magnitude = 20 * np.log(np.abs(recon))\n",
    "    mean = np.mean(magnitude)\n",
    "    # the image will be considered \"blurry\" if the mean value of the\n",
    "    # magnitudes is less than the threshold value\n",
    "    return mean\n"
   ]
  },
  {
   "cell_type": "code",
   "execution_count": 4,
   "metadata": {},
   "outputs": [],
   "source": [
    "def get_inrange_mask(img, masked_img=False):\n",
    "    hsv = cv2.cvtColor(img, cv2.COLOR_BGR2HSV)\n",
    "    \n",
    "    # Define color ranges in hsv\n",
    "\n",
    "    lower_purple = np.array([70, 12, 10])\n",
    "    upper_purple = np.array([178, 180, 255])\n",
    "\n",
    "    lower_brown = np.array([14,25,10])\n",
    "    upper_brown = np.array([56,127,255])\n",
    "    \n",
    "    # Get mask   \n",
    "    mask_purple = cv2.inRange(hsv, lower_purple, upper_purple)\n",
    "    purple_cover = mask_purple.sum()*100/(mask_purple.shape[0]*mask_purple.shape[1]*255)\n",
    "    #print(\"Mask cover for purple/blue is {} percent\".format(purple_cover))\n",
    "    mask_brown = cv2.inRange(hsv, lower_brown, upper_brown)\n",
    "    brown_cover = mask_brown.sum()*100/(mask_brown.shape[0]*mask_brown.shape[1]*255)\n",
    "    #print(\"Mask cover for brown is {} percent\".format(brown_cover))\n",
    "    \n",
    "    mask = 255*(mask_purple + mask_brown)\n",
    "    mask = mask.clip(0, 255).astype(\"uint8\")\n",
    "    \n",
    "    # Bitwise-AND mask and original image\n",
    "    if masked_img:\n",
    "        res = cv2.bitwise_and(img,img, mask= mask)\n",
    "        res_purple = cv2.bitwise_and(img,img, mask= mask_purple)\n",
    "        res_brown = cv2.bitwise_and(img,img, mask= mask_brown)\n",
    "        return res, res_purple, res_brown\n",
    "    else:\n",
    "        return purple_cover, brown_cover\n",
    "\n",
    "\n",
    "def get_hsv_plots(img):\n",
    "    hsv = cv2.cvtColor(img, cv2.COLOR_BGR2HSV)\n",
    "    hist = cv2.calcHist([hsv], [0, 1], None, [256, 256], [0, 256, 0, 256])\n",
    "    #print(hist)8\n",
    "    fig, ax = plt.subplots(figsize=(18, 10))\n",
    "    ax.imshow(hist, interpolation='nearest')\n",
    "    plt.show()"
   ]
  },
  {
   "cell_type": "code",
   "execution_count": 5,
   "metadata": {},
   "outputs": [],
   "source": [
    "from google.cloud import storage\n",
    "# Initialise a client\n",
    "storage_client = storage.Client()"
   ]
  },
  {
   "cell_type": "code",
   "execution_count": 39,
   "metadata": {},
   "outputs": [
    {
     "name": "stdout",
     "output_type": "stream",
     "text": [
      "seagen-quantiphi\n",
      "to-be-annotated/strong_positive/img_027_08192_02048.png\n",
      "(1024, 1024, 3)\n",
      "Laplacian Variance: 914.4927651074814\n",
      "FFT mean value: 38.58623884069489\n"
     ]
    },
    {
     "data": {
      "image/png": "[encoded data removed]",
      "text/plain": [
       "<Figure size 1296x720 with 1 Axes>"
      ]
     },
     "metadata": {
      "needs_background": "light"
     },
     "output_type": "display_data"
    }
   ],
   "source": [
    "# Purple Blur\n",
    "#test_img = \"/home/jupyter/dataset/subset_1_1/export_data-seagen_subset_1_1-2020-12-23T08:55:47.943745Z/files/001efdac-ed5a-49ed-aaba-02ca2361886c.png\"\n",
    "# Brown Blur\n",
    "#test_img = \"/home/jupyter/dataset/subset_1_1/export_data-seagen_subset_1_1-2020-12-23T08:55:47.943745Z/files/00215f10-4285-474f-8566-250b2ab7c044.png\"\n",
    "# Blue Brown Focused\n",
    "#test_img = \"/home/jupyter/dataset/subset_1_1/export_data-seagen_subset_1_1-2020-12-23T08:55:47.943745Z/files/023c700c-51c1-48f9-ac15-97267533d914.png\"\n",
    "\n",
    "#test_img = \"/home/jupyter/dataset/subset_1_1/export_data-seagen_subset_1_1-2020-12-23T08:55:47.943745Z/files/c286fb88-ce90-4769-9136-12aabda0b0e2.png\"\n",
    "\n",
    "gs_uri = \"gs://seagen-quantiphi/to-be-annotated/strong_positive/img_027_08192_02048.png\"\n",
    "#gs_uri = \"gs://seagen-quantiphi/to-be-annotated/out_of_focus/img_003_20480_02048.png\"\n",
    "#gs_uri = \"gs://seagen-quantiphi/to-be-annotated/out_of_focus/img_007_19456_14336.png\"\n",
    "print(gs_uri.split(\"/\")[2])\n",
    "print(\"/\".join(gs_uri.split(\"/\")[3:]))\n",
    "# Create a bucket object for our bucket\n",
    "bucket = storage_client.get_bucket(gs_uri.split(\"/\")[2])\n",
    "# Create a blob object from the filepath\n",
    "blob = bucket.blob(\"/\".join(gs_uri.split(\"/\")[3:]))\n",
    "# Download the file to a destination\n",
    "blob.download_to_filename(\"/home/jupyter/test_img.png\")\n",
    "\n",
    "\n",
    "im = cv2.imread(\"/home/jupyter/test_img.png\")\n",
    "print(im.shape)\n",
    "new_im, new_im_purple, new_im_brown = get_inrange_mask(im, masked_img=True)\n",
    "#get_hsv_plots(im)\n",
    "print(\"Laplacian Variance: {}\".format(var_of_laplacian(im)))\n",
    "print(\"FFT mean value: {}\".format(detect_blur_fft(im)))\n",
    "#cv2.imwrite(\"/home/jupyter/test_img.png\", im)\n",
    "cv2.imwrite(\"/home/jupyter/test_mask.png\", new_im)\n",
    "cv2.imwrite(\"/home/jupyter/test_mask_blue-purple.png\", new_im_purple)\n",
    "cv2.imwrite(\"/home/jupyter/test_mask_brown.png\", new_im_brown)\n",
    "get_hsv_plots(im)"
   ]
  },
  {
   "cell_type": "code",
   "execution_count": 16,
   "metadata": {},
   "outputs": [
    {
     "name": "stderr",
     "output_type": "stream",
     "text": [
      "/opt/conda/lib/python3.7/site-packages/ipykernel_launcher.py:13: SettingWithCopyWarning: \n",
      "A value is trying to be set on a copy of a slice from a DataFrame\n",
      "\n",
      "See the caveats in the documentation: https://pandas.pydata.org/pandas-docs/stable/user_guide/indexing.html#returning-a-view-versus-a-copy\n",
      "  del sys.path[0]\n",
      "/opt/conda/lib/python3.7/site-packages/ipykernel_launcher.py:14: SettingWithCopyWarning: \n",
      "A value is trying to be set on a copy of a slice from a DataFrame\n",
      "\n",
      "See the caveats in the documentation: https://pandas.pydata.org/pandas-docs/stable/user_guide/indexing.html#returning-a-view-versus-a-copy\n",
      "  \n",
      "/opt/conda/lib/python3.7/site-packages/ipykernel_launcher.py:15: SettingWithCopyWarning: \n",
      "A value is trying to be set on a copy of a slice from a DataFrame\n",
      "\n",
      "See the caveats in the documentation: https://pandas.pydata.org/pandas-docs/stable/user_guide/indexing.html#returning-a-view-versus-a-copy\n",
      "  from ipykernel import kernelapp as app\n",
      "/opt/conda/lib/python3.7/site-packages/ipykernel_launcher.py:16: SettingWithCopyWarning: \n",
      "A value is trying to be set on a copy of a slice from a DataFrame\n",
      "\n",
      "See the caveats in the documentation: https://pandas.pydata.org/pandas-docs/stable/user_guide/indexing.html#returning-a-view-versus-a-copy\n",
      "  app.launch_new_instance()\n"
     ]
    },
    {
     "name": "stdout",
     "output_type": "stream",
     "text": [
      "5566\r"
     ]
    }
   ],
   "source": [
    "df[\"laplacian_var\"] = 0.0\n",
    "df[\"purple_cover\"] = 0.0\n",
    "df[\"brown_cover\"] = 0.0\n",
    "df[\"fft_blur\"] = 0.0\n",
    "for indx in df.index:\n",
    "    img_path = \"/home/jupyter/\" + df[\"path\"][indx][22:]\n",
    "    #print(img_path)\n",
    "    im = cv2.imread(img_path)\n",
    "    #print(im)\n",
    "    lap_var = var_of_laplacian(im)\n",
    "    fft_blur = detect_blur_fft(im)\n",
    "    purple_cover, brown_cover = get_inrange_mask(im)\n",
    "    df[\"laplacian_var\"][indx] = lap_var\n",
    "    df[\"purple_cover\"][indx] = purple_cover\n",
    "    df[\"brown_cover\"][indx] = brown_cover\n",
    "    df[\"fft_blur\"][indx] = fft_blur\n",
    "    print(indx, end=\"\\r\")\n",
    "    "
   ]
  },
  {
   "cell_type": "code",
   "execution_count": 17,
   "metadata": {},
   "outputs": [],
   "source": [
    "df.to_csv(\"/home/jupyter/subset_1_1/df.csv\", index=False)\n",
    "df = pd.read_csv(\"/home/jupyter/subset_1_1/df.csv\", delimiter=',')"
   ]
  },
  {
   "cell_type": "code",
   "execution_count": 18,
   "metadata": {},
   "outputs": [
    {
     "data": {
      "text/plain": [
       "Text(0, 0.5, 'Frequency')"
      ]
     },
     "execution_count": 18,
     "metadata": {},
     "output_type": "execute_result"
    },
    {
     "data": {
      "image/png": "[encoded data removed]",
      "text/plain": [
       "<Figure size 720x360 with 1 Axes>"
      ]
     },
     "metadata": {
      "needs_background": "light"
     },
     "output_type": "display_data"
    },
    {
     "data": {
      "image/png": "[encoded data removed]",
      "text/plain": [
       "<Figure size 720x360 with 1 Axes>"
      ]
     },
     "metadata": {
      "needs_background": "light"
     },
     "output_type": "display_data"
    },
    {
     "data": {
      "image/png": "[encoded data removed]",
      "text/plain": [
       "<Figure size 720x360 with 1 Axes>"
      ]
     },
     "metadata": {
      "needs_background": "light"
     },
     "output_type": "display_data"
    },
    {
     "data": {
      "image/png": "[encoded data removed]",
      "text/plain": [
       "<Figure size 720x360 with 1 Axes>"
      ]
     },
     "metadata": {
      "needs_background": "light"
     },
     "output_type": "display_data"
    }
   ],
   "source": [
    "label = \"out_of_focus\"\n",
    "\n",
    "arr_lap_var = df[df[\"gt_label\"] == label][\"laplacian_var\"]\n",
    "hist, bin_edges = np.histogram(arr_lap_var)\n",
    "plt.figure(figsize=[10,5])\n",
    "plt.title(\"Laplacian variance histogram for '{}' label\".format(label))\n",
    "plt.plot(bin_edges[:-1], hist)\n",
    "plt.xlim(-10, max(bin_edges))\n",
    "plt.xlabel(\"Laplacian Variance\")\n",
    "plt.ylabel(\"Frequency\")\n",
    "#plt.xlim(-10, 500)\n",
    "\n",
    "arr_lap_var = df[df[\"gt_label\"] == label][\"fft_blur\"]\n",
    "hist, bin_edges = np.histogram(arr_lap_var)\n",
    "plt.figure(figsize=[10,5])\n",
    "plt.title(\"Fourier Transform Mean histogram for '{}' label\".format(label))\n",
    "plt.plot(bin_edges[:-1], hist)\n",
    "#plt.xlim(-10, max(bin_edges))\n",
    "plt.xlabel(\"FFT mean\")\n",
    "plt.ylabel(\"Frequency\")\n",
    "\n",
    "\n",
    "arr = df[df[\"gt_label\"] == label][\"purple_cover\"]\n",
    "hist, bin_edges = np.histogram(arr, bins=100)\n",
    "plt.figure(figsize=[10,5])\n",
    "plt.title(\"Purple-Blue-Pink cover histogram for '{}' label\".format(label))\n",
    "plt.plot(bin_edges[:-1], hist)\n",
    "plt.xlim(-1, max(bin_edges)+1)\n",
    "plt.xlabel(\"Purple/Blue cover %\")\n",
    "plt.ylabel(\"Frequency\")\n",
    "\n",
    "arr = df[df[\"gt_label\"] == label][\"brown_cover\"]\n",
    "hist, bin_edges = np.histogram(arr, bins=100)\n",
    "plt.figure(figsize=[10,5])\n",
    "plt.title(\"Brown cover histogram for '{}' label\".format(label))\n",
    "plt.plot(bin_edges[:-1], hist)\n",
    "plt.xlim(-1, max(bin_edges)+1)\n",
    "plt.xlabel(\"Brown cover %\")\n",
    "plt.ylabel(\"Frequency\")"
   ]
  },
  {
   "cell_type": "code",
   "execution_count": 19,
   "metadata": {},
   "outputs": [],
   "source": [
    "def no_tissue(lap_var, purple_cover, brown_cover):\n",
    "    if purple_cover < 0.2 and brown_cover < 0.2:\n",
    "        return True\n",
    "    else:\n",
    "        return False\n",
    "    \n",
    "def out_of_focus(lap_var, purple_cover, brown_cover):\n",
    "    #for ksize=1 , threshold = ~50, fp =1, tp = ~1100\n",
    "    #for ksize=3 , threshold = ~625, fp =4, tp = ~1100\n",
    "    #for ksize=5 , \n",
    "\n",
    "    if lap_var < 50:\n",
    "        return True\n",
    "    else:\n",
    "        return False\n",
    "    \n",
    "def strong_positive(lap_var, purple_cover, brown_cover):\n",
    "    if brown_cover > 2:\n",
    "        return True\n",
    "    else:\n",
    "        return False\n",
    "\n",
    "def negative(lap_var, purple_cover, brown_cover):\n",
    "    if purple_cover > 0.5 and brown_cover < 0.5:\n",
    "        return True\n",
    "    else:\n",
    "        return False"
   ]
  },
  {
   "cell_type": "code",
   "execution_count": 20,
   "metadata": {},
   "outputs": [
    {
     "name": "stderr",
     "output_type": "stream",
     "text": [
      "/opt/conda/lib/python3.7/site-packages/ipykernel_launcher.py:32: SettingWithCopyWarning: \n",
      "A value is trying to be set on a copy of a slice from a DataFrame\n",
      "\n",
      "See the caveats in the documentation: https://pandas.pydata.org/pandas-docs/stable/user_guide/indexing.html#returning-a-view-versus-a-copy\n",
      "/opt/conda/lib/python3.7/site-packages/ipykernel_launcher.py:51: SettingWithCopyWarning: \n",
      "A value is trying to be set on a copy of a slice from a DataFrame\n",
      "\n",
      "See the caveats in the documentation: https://pandas.pydata.org/pandas-docs/stable/user_guide/indexing.html#returning-a-view-versus-a-copy\n",
      "/opt/conda/lib/python3.7/site-packages/ipykernel_launcher.py:42: SettingWithCopyWarning: \n",
      "A value is trying to be set on a copy of a slice from a DataFrame\n",
      "\n",
      "See the caveats in the documentation: https://pandas.pydata.org/pandas-docs/stable/user_guide/indexing.html#returning-a-view-versus-a-copy\n"
     ]
    }
   ],
   "source": [
    "acc_count = {\"out_of_focus\": {\"tp\": 0, \"fp\": 0, \"total\": 0},\n",
    "             \"strong_positive\": {\"tp\": 0, \"fp\": 0, \"total\": 0},\n",
    "             \"negative\": {\"tp\": 0, \"fp\":0, \"total\": 0}}\n",
    "\n",
    "df[\"preds\"] = \"\"\n",
    "for indx in df.index:\n",
    "    gt_label = df[\"gt_label\"][indx]\n",
    "    if gt_label == \"necrotic\" or gt_label == \"HE\" or gt_label == \"no_tissue\" or gt_label == \"dim_positive\":\n",
    "        continue\n",
    "    acc_count[gt_label][\"total\"] += 1\n",
    "    lap_var, purple_cover, brown_cover = df[\"laplacian_var\"][indx], df[\"purple_cover\"][indx], df[\"brown_cover\"][indx]\n",
    "    #fft_blur = df[\"fft_blur\"][indx]\n",
    "    #print(lap_var, purple_cover, brown_cover)\n",
    "    # Prediction\n",
    "    # No tissue\n",
    "    #if no_tissue(lap_var, purple_cover, brown_cover):\n",
    "    #    if gt_label == \"no_tissue\":\n",
    "    #        acc_count[gt_label][\"tp\"] += 1\n",
    "    #    else:\n",
    "    #        acc_count[\"no_tissue\"][\"fp\"] += 1\n",
    "    #    df[\"preds\"][indx] = \"no_tissue\"\n",
    "    #    continue\n",
    "    #if gt_label == \"no_tissue\":\n",
    "        #print(df[\"path\"][indx])\n",
    "    # OOF\n",
    "    if out_of_focus(lap_var, purple_cover, brown_cover):\n",
    "        if gt_label == \"out_of_focus\":\n",
    "            acc_count[gt_label][\"tp\"] += 1\n",
    "        else:\n",
    "            #print(df[\"path\"][indx])\n",
    "            acc_count[\"out_of_focus\"][\"fp\"] += 1\n",
    "        df[\"preds\"][indx] = \"out_of_focus\"\n",
    "        continue\n",
    "        \n",
    "    # Strong Positive\n",
    "    if strong_positive(lap_var, purple_cover, brown_cover):\n",
    "        if gt_label == \"strong_positive\":\n",
    "            acc_count[gt_label][\"tp\"] += 1\n",
    "        else:\n",
    "            acc_count[\"strong_positive\"][\"fp\"] += 1\n",
    "            #print(df[\"gt_label\"][indx], brown_cover)\n",
    "        df[\"preds\"][indx] = \"strong_positive\"\n",
    "        continue\n",
    "        \n",
    "    # Negative\n",
    "    if negative(lap_var, purple_cover, brown_cover):\n",
    "        if gt_label == \"negative\":\n",
    "            acc_count[gt_label][\"tp\"] += 1\n",
    "        else:\n",
    "            acc_count[\"negative\"][\"fp\"] += 1\n",
    "        df[\"preds\"][indx] = \"negative\"\n",
    "        continue\n",
    "    "
   ]
  },
  {
   "cell_type": "code",
   "execution_count": 21,
   "metadata": {},
   "outputs": [
    {
     "data": {
      "text/html": [
       "<div>\n",
       "<style scoped>\n",
       "    .dataframe tbody tr th:only-of-type {\n",
       "        vertical-align: middle;\n",
       "    }\n",
       "\n",
       "    .dataframe tbody tr th {\n",
       "        vertical-align: top;\n",
       "    }\n",
       "\n",
       "    .dataframe thead th {\n",
       "        text-align: right;\n",
       "    }\n",
       "</style>\n",
       "<table border=\"1\" class=\"dataframe\">\n",
       "  <thead>\n",
       "    <tr style=\"text-align: right;\">\n",
       "      <th></th>\n",
       "      <th>path</th>\n",
       "      <th>gt_label</th>\n",
       "      <th>preds</th>\n",
       "      <th>laplacian_var</th>\n",
       "      <th>purple_cover</th>\n",
       "      <th>brown_cover</th>\n",
       "    </tr>\n",
       "  </thead>\n",
       "  <tbody>\n",
       "    <tr>\n",
       "      <th>0</th>\n",
       "      <td>gs://seagen-quantiphi/subset_1_1/export_data-s...</td>\n",
       "      <td>out_of_focus</td>\n",
       "      <td>out_of_focus</td>\n",
       "      <td>2.874961</td>\n",
       "      <td>81.979370</td>\n",
       "      <td>0.000000</td>\n",
       "    </tr>\n",
       "    <tr>\n",
       "      <th>4</th>\n",
       "      <td>gs://seagen-quantiphi/subset_1_1/export_data-s...</td>\n",
       "      <td>out_of_focus</td>\n",
       "      <td>out_of_focus</td>\n",
       "      <td>4.395153</td>\n",
       "      <td>76.314640</td>\n",
       "      <td>0.000000</td>\n",
       "    </tr>\n",
       "    <tr>\n",
       "      <th>6</th>\n",
       "      <td>gs://seagen-quantiphi/subset_1_1/export_data-s...</td>\n",
       "      <td>out_of_focus</td>\n",
       "      <td>negative</td>\n",
       "      <td>826.513267</td>\n",
       "      <td>87.585545</td>\n",
       "      <td>0.000095</td>\n",
       "    </tr>\n",
       "    <tr>\n",
       "      <th>12</th>\n",
       "      <td>gs://seagen-quantiphi/subset_1_1/export_data-s...</td>\n",
       "      <td>out_of_focus</td>\n",
       "      <td>negative</td>\n",
       "      <td>1090.411069</td>\n",
       "      <td>52.093410</td>\n",
       "      <td>0.003529</td>\n",
       "    </tr>\n",
       "    <tr>\n",
       "      <th>20</th>\n",
       "      <td>gs://seagen-quantiphi/subset_1_1/export_data-s...</td>\n",
       "      <td>out_of_focus</td>\n",
       "      <td>out_of_focus</td>\n",
       "      <td>3.437262</td>\n",
       "      <td>96.874809</td>\n",
       "      <td>0.000000</td>\n",
       "    </tr>\n",
       "    <tr>\n",
       "      <th>...</th>\n",
       "      <td>...</td>\n",
       "      <td>...</td>\n",
       "      <td>...</td>\n",
       "      <td>...</td>\n",
       "      <td>...</td>\n",
       "      <td>...</td>\n",
       "    </tr>\n",
       "    <tr>\n",
       "      <th>5542</th>\n",
       "      <td>gs://seagen-quantiphi/subset_1_1/export_data-s...</td>\n",
       "      <td>out_of_focus</td>\n",
       "      <td>out_of_focus</td>\n",
       "      <td>3.943269</td>\n",
       "      <td>92.902660</td>\n",
       "      <td>0.000000</td>\n",
       "    </tr>\n",
       "    <tr>\n",
       "      <th>5544</th>\n",
       "      <td>gs://seagen-quantiphi/subset_1_1/export_data-s...</td>\n",
       "      <td>out_of_focus</td>\n",
       "      <td>out_of_focus</td>\n",
       "      <td>12.607234</td>\n",
       "      <td>5.435085</td>\n",
       "      <td>4.475498</td>\n",
       "    </tr>\n",
       "    <tr>\n",
       "      <th>5556</th>\n",
       "      <td>gs://seagen-quantiphi/subset_1_1/export_data-s...</td>\n",
       "      <td>out_of_focus</td>\n",
       "      <td>negative</td>\n",
       "      <td>100.441220</td>\n",
       "      <td>46.898460</td>\n",
       "      <td>0.000095</td>\n",
       "    </tr>\n",
       "    <tr>\n",
       "      <th>5559</th>\n",
       "      <td>gs://seagen-quantiphi/subset_1_1/export_data-s...</td>\n",
       "      <td>out_of_focus</td>\n",
       "      <td>out_of_focus</td>\n",
       "      <td>12.305824</td>\n",
       "      <td>89.921570</td>\n",
       "      <td>0.014687</td>\n",
       "    </tr>\n",
       "    <tr>\n",
       "      <th>5566</th>\n",
       "      <td>gs://seagen-quantiphi/subset_1_1/export_data-s...</td>\n",
       "      <td>out_of_focus</td>\n",
       "      <td>out_of_focus</td>\n",
       "      <td>24.514119</td>\n",
       "      <td>99.089432</td>\n",
       "      <td>0.000000</td>\n",
       "    </tr>\n",
       "  </tbody>\n",
       "</table>\n",
       "<p>1461 rows × 6 columns</p>\n",
       "</div>"
      ],
      "text/plain": [
       "                                                   path      gt_label  \\\n",
       "0     gs://seagen-quantiphi/subset_1_1/export_data-s...  out_of_focus   \n",
       "4     gs://seagen-quantiphi/subset_1_1/export_data-s...  out_of_focus   \n",
       "6     gs://seagen-quantiphi/subset_1_1/export_data-s...  out_of_focus   \n",
       "12    gs://seagen-quantiphi/subset_1_1/export_data-s...  out_of_focus   \n",
       "20    gs://seagen-quantiphi/subset_1_1/export_data-s...  out_of_focus   \n",
       "...                                                 ...           ...   \n",
       "5542  gs://seagen-quantiphi/subset_1_1/export_data-s...  out_of_focus   \n",
       "5544  gs://seagen-quantiphi/subset_1_1/export_data-s...  out_of_focus   \n",
       "5556  gs://seagen-quantiphi/subset_1_1/export_data-s...  out_of_focus   \n",
       "5559  gs://seagen-quantiphi/subset_1_1/export_data-s...  out_of_focus   \n",
       "5566  gs://seagen-quantiphi/subset_1_1/export_data-s...  out_of_focus   \n",
       "\n",
       "             preds  laplacian_var  purple_cover  brown_cover  \n",
       "0     out_of_focus       2.874961     81.979370     0.000000  \n",
       "4     out_of_focus       4.395153     76.314640     0.000000  \n",
       "6         negative     826.513267     87.585545     0.000095  \n",
       "12        negative    1090.411069     52.093410     0.003529  \n",
       "20    out_of_focus       3.437262     96.874809     0.000000  \n",
       "...            ...            ...           ...          ...  \n",
       "5542  out_of_focus       3.943269     92.902660     0.000000  \n",
       "5544  out_of_focus      12.607234      5.435085     4.475498  \n",
       "5556      negative     100.441220     46.898460     0.000095  \n",
       "5559  out_of_focus      12.305824     89.921570     0.014687  \n",
       "5566  out_of_focus      24.514119     99.089432     0.000000  \n",
       "\n",
       "[1461 rows x 6 columns]"
      ]
     },
     "execution_count": 21,
     "metadata": {},
     "output_type": "execute_result"
    }
   ],
   "source": [
    "df[[\"path\", \"gt_label\", \"preds\", \"laplacian_var\", \"purple_cover\", \"brown_cover\"]][(df['gt_label']=='out_of_focus')]"
   ]
  },
  {
   "cell_type": "code",
   "execution_count": 22,
   "metadata": {},
   "outputs": [
    {
     "data": {
      "text/plain": [
       "{'out_of_focus': {'tp': 1103, 'fp': 1, 'total': 1461},\n",
       " 'strong_positive': {'tp': 703, 'fp': 12, 'total': 735},\n",
       " 'negative': {'tp': 764, 'fp': 345, 'total': 769}}"
      ]
     },
     "execution_count": 22,
     "metadata": {},
     "output_type": "execute_result"
    }
   ],
   "source": [
    "acc_count"
   ]
  },
  {
   "cell_type": "code",
   "execution_count": 35,
   "metadata": {},
   "outputs": [],
   "source": [
    "misclassified_oof = df[[\"path\"]][(df['gt_label']=='out_of_focus') & (df['preds']!=\"out_of_focus\")]"
   ]
  },
  {
   "cell_type": "code",
   "execution_count": 36,
   "metadata": {},
   "outputs": [],
   "source": [
    "misclassified_oof = misclassified_oof.reset_index()\n"
   ]
  },
  {
   "cell_type": "code",
   "execution_count": 37,
   "metadata": {},
   "outputs": [],
   "source": [
    "#misclassified_oof.to_csv(\"/home/jupyter/subset_1_1/misclassified_oof.csv\", index=False)"
   ]
  },
  {
   "cell_type": "code",
   "execution_count": 38,
   "metadata": {},
   "outputs": [],
   "source": [
    "classified_oof = df[[\"path\"]][(df['gt_label']=='out_of_focus') & (df['preds']==\"out_of_focus\")].reset_index()\n"
   ]
  },
  {
   "cell_type": "code",
   "execution_count": 39,
   "metadata": {},
   "outputs": [],
   "source": [
    "#df[df[\"gt_label\"] == \"necrotic\"][\"gt_label\"] = \"negative\""
   ]
  },
  {
   "cell_type": "code",
   "execution_count": 40,
   "metadata": {},
   "outputs": [],
   "source": [
    "#classified_oof.to_csv(\"/home/jupyter/subset_1_1/classified_oof.csv\", index=False)"
   ]
  },
  {
   "cell_type": "code",
   "execution_count": 41,
   "metadata": {},
   "outputs": [],
   "source": [
    "fp_cases_oof = df[[\"path\"]][(df['gt_label']!='out_of_focus') & (df['preds']==\"out_of_focus\")].reset_index()\n"
   ]
  },
  {
   "cell_type": "code",
   "execution_count": 42,
   "metadata": {},
   "outputs": [],
   "source": [
    "#fp_cases_oof.to_csv(\"/home/jupyter/subset_1_1/fp_cases_oof.csv\", index=False)"
   ]
  },
  {
   "cell_type": "code",
   "execution_count": null,
   "metadata": {},
   "outputs": [],
   "source": []
  },
  {
   "cell_type": "code",
   "execution_count": 23,
   "metadata": {},
   "outputs": [
    {
     "name": "stdout",
     "output_type": "stream",
     "text": [
      "'out_of_focus'\n",
      "Total samples: 1461\n",
      "True positives: 1103\n",
      "False positives: 1\n",
      "Accuracy for 'out_of_focus' is 75.49623545516769\n",
      "\n",
      "'strong_positive'\n",
      "Total samples: 735\n",
      "True positives: 703\n",
      "False positives: 12\n",
      "Accuracy for 'strong_positive' is 95.64625850340136\n",
      "\n",
      "'negative'\n",
      "Total samples: 769\n",
      "True positives: 764\n",
      "False positives: 345\n",
      "Accuracy for 'negative' is 99.34980494148245\n",
      "\n"
     ]
    }
   ],
   "source": [
    "for key in acc_count:\n",
    "    print(\"'{}'\".format(key))\n",
    "    acc = acc_count[key][\"tp\"]*100/acc_count[key][\"total\"]\n",
    "    print(\"Total samples: {}\".format(acc_count[key][\"total\"]))\n",
    "    print(\"True positives: {}\".format(acc_count[key][\"tp\"]))\n",
    "    print(\"False positives: {}\".format(acc_count[key][\"fp\"]))\n",
    "    print(\"Accuracy for '{}' is {}\".format(key, acc))\n",
    "    print()"
   ]
  },
  {
   "cell_type": "markdown",
   "metadata": {},
   "source": [
    "## Training a small Neural Network"
   ]
  },
  {
   "cell_type": "code",
   "execution_count": 26,
   "metadata": {},
   "outputs": [],
   "source": [
    "import tensorflow as tf"
   ]
  },
  {
   "cell_type": "code",
   "execution_count": 27,
   "metadata": {},
   "outputs": [
    {
     "name": "stdout",
     "output_type": "stream",
     "text": [
      "Model: \"sequential\"\n",
      "_________________________________________________________________\n",
      "Layer (type)                 Output Shape              Param #   \n",
      "=================================================================\n",
      "dense (Dense)                (None, 64)                256       \n",
      "_________________________________________________________________\n",
      "dense_1 (Dense)              (None, 2)                 130       \n",
      "=================================================================\n",
      "Total params: 386\n",
      "Trainable params: 386\n",
      "Non-trainable params: 0\n",
      "_________________________________________________________________\n"
     ]
    }
   ],
   "source": [
    "model = tf.keras.Sequential(layers=[tf.keras.Input([3]),\n",
    "                           tf.keras.layers.Dense(64, activation=\"relu\"),\n",
    "                           tf.keras.layers.Dense(2, activation=\"softmax\")])\n",
    "model.summary()"
   ]
  },
  {
   "cell_type": "code",
   "execution_count": 28,
   "metadata": {},
   "outputs": [
    {
     "name": "stdout",
     "output_type": "stream",
     "text": [
      "TRAIN         1175\n",
      "TEST           144\n",
      "VALIDATION     142\n",
      "Name: split, dtype: int64\n"
     ]
    }
   ],
   "source": [
    "print(df[df[\"gt_label\"] == \"out_of_focus\"][\"split\"].value_counts())"
   ]
  },
  {
   "cell_type": "code",
   "execution_count": 29,
   "metadata": {},
   "outputs": [],
   "source": [
    "label_dict = {\"not_oof\": 0, \"oof\": 1}\n",
    "x_train,y_train = [], []\n",
    "x_test,y_test = [], []\n",
    "for indx in df.index:\n",
    "    if df[\"gt_label\"][indx] == \"no_tissue\":\n",
    "        continue\n",
    "    else:\n",
    "        example = [df[\"laplacian_var\"][indx], df[\"purple_cover\"][indx], df[\"brown_cover\"][indx]]\n",
    "        #print(example)\n",
    "        if df[\"gt_label\"][indx] == \"out_of_focus\":\n",
    "            label = 1\n",
    "        else:\n",
    "            label = 0\n",
    "        if df[\"split\"][indx] == \"TEST\" or df[\"split\"][indx] == \"VALIDATION\":\n",
    "            x_test.append(example)\n",
    "            y_test.append(label)\n",
    "        else:\n",
    "            x_train.append(example)\n",
    "            y_train.append(label)\n",
    "x_train = np.array(x_train).astype(np.float32)\n",
    "y_train = np.array(y_train).astype(np.int32)\n",
    "x_test = np.array(x_test).astype(np.float32)\n",
    "y_test = np.array(y_test).astype(np.int32)"
   ]
  },
  {
   "cell_type": "code",
   "execution_count": 30,
   "metadata": {},
   "outputs": [
    {
     "data": {
      "text/plain": [
       "(871, 3)"
      ]
     },
     "execution_count": 30,
     "metadata": {},
     "output_type": "execute_result"
    }
   ],
   "source": [
    "x_test.shape"
   ]
  },
  {
   "cell_type": "code",
   "execution_count": 31,
   "metadata": {},
   "outputs": [],
   "source": [
    "model.compile(optimizer=tf.keras.optimizers.Adam(lr=0.001), loss = \"sparse_categorical_crossentropy\", metrics=[\"accuracy\"])"
   ]
  },
  {
   "cell_type": "code",
   "execution_count": 35,
   "metadata": {},
   "outputs": [
    {
     "name": "stdout",
     "output_type": "stream",
     "text": [
      "Epoch 1/20\n",
      "222/222 [==============================] - 0s 2ms/step - loss: 0.3370 - accuracy: 0.9265 - val_loss: 0.2265 - val_accuracy: 0.9460\n",
      "Epoch 2/20\n",
      "222/222 [==============================] - 0s 1ms/step - loss: 0.2872 - accuracy: 0.9304 - val_loss: 0.1676 - val_accuracy: 0.9392\n",
      "Epoch 3/20\n",
      "222/222 [==============================] - 0s 1ms/step - loss: 0.4552 - accuracy: 0.9236 - val_loss: 0.7280 - val_accuracy: 0.9437\n",
      "Epoch 4/20\n",
      "222/222 [==============================] - 0s 1ms/step - loss: 0.2859 - accuracy: 0.9259 - val_loss: 0.2140 - val_accuracy: 0.9426\n",
      "Epoch 5/20\n",
      "222/222 [==============================] - 0s 1ms/step - loss: 0.3162 - accuracy: 0.9290 - val_loss: 0.2038 - val_accuracy: 0.9460\n",
      "Epoch 6/20\n",
      "222/222 [==============================] - 0s 1ms/step - loss: 0.2797 - accuracy: 0.9301 - val_loss: 0.1690 - val_accuracy: 0.9392\n",
      "Epoch 7/20\n",
      "222/222 [==============================] - 0s 1ms/step - loss: 0.3195 - accuracy: 0.9287 - val_loss: 0.2995 - val_accuracy: 0.9437\n",
      "Epoch 8/20\n",
      "222/222 [==============================] - 0s 1ms/step - loss: 0.2317 - accuracy: 0.9296 - val_loss: 0.2152 - val_accuracy: 0.9460\n",
      "Epoch 9/20\n",
      "222/222 [==============================] - 0s 1ms/step - loss: 0.2521 - accuracy: 0.9312 - val_loss: 0.1843 - val_accuracy: 0.9265\n",
      "Epoch 10/20\n",
      "222/222 [==============================] - 0s 1ms/step - loss: 0.4076 - accuracy: 0.9234 - val_loss: 0.2666 - val_accuracy: 0.9460\n",
      "Epoch 11/20\n",
      "222/222 [==============================] - 0s 1ms/step - loss: 0.2420 - accuracy: 0.9245 - val_loss: 0.1543 - val_accuracy: 0.9460\n",
      "Epoch 12/20\n",
      "222/222 [==============================] - 0s 1ms/step - loss: 0.2784 - accuracy: 0.9341 - val_loss: 0.1887 - val_accuracy: 0.9082\n",
      "Epoch 13/20\n",
      "222/222 [==============================] - 0s 1ms/step - loss: 0.2356 - accuracy: 0.9315 - val_loss: 0.2174 - val_accuracy: 0.9460\n",
      "Epoch 14/20\n",
      "222/222 [==============================] - 0s 1ms/step - loss: 0.2383 - accuracy: 0.9343 - val_loss: 0.1725 - val_accuracy: 0.9437\n",
      "Epoch 15/20\n",
      "222/222 [==============================] - 0s 1ms/step - loss: 0.2384 - accuracy: 0.9324 - val_loss: 0.7608 - val_accuracy: 0.9380\n",
      "Epoch 16/20\n",
      "222/222 [==============================] - 0s 1ms/step - loss: 0.2990 - accuracy: 0.9327 - val_loss: 0.2144 - val_accuracy: 0.9460\n",
      "Epoch 17/20\n",
      "222/222 [==============================] - 0s 1ms/step - loss: 0.2443 - accuracy: 0.9329 - val_loss: 0.2075 - val_accuracy: 0.8783\n",
      "Epoch 18/20\n",
      "222/222 [==============================] - 0s 1ms/step - loss: 0.3174 - accuracy: 0.9270 - val_loss: 0.1688 - val_accuracy: 0.9437\n",
      "Epoch 19/20\n",
      "222/222 [==============================] - 0s 1ms/step - loss: 0.2622 - accuracy: 0.9293 - val_loss: 0.4376 - val_accuracy: 0.9437\n",
      "Epoch 20/20\n",
      "222/222 [==============================] - 0s 1ms/step - loss: 0.4168 - accuracy: 0.9256 - val_loss: 0.1644 - val_accuracy: 0.9426\n"
     ]
    },
    {
     "data": {
      "text/plain": [
       "<tensorflow.python.keras.callbacks.History at 0x7f7369fea490>"
      ]
     },
     "execution_count": 35,
     "metadata": {},
     "output_type": "execute_result"
    }
   ],
   "source": [
    "model.fit(x=x_train, y=y_train, validation_data=(x_test,y_test), epochs=20, batch_size=16)"
   ]
  },
  {
   "cell_type": "code",
   "execution_count": 36,
   "metadata": {},
   "outputs": [],
   "source": [
    "total = 0\n",
    "tp, fn, fp, tn = 0, 0, 0, 0\n",
    "for indx in df.index:\n",
    "    if df[\"gt_label\"][indx] == \"no_tissue\":\n",
    "        continue\n",
    "    else:\n",
    "        example = [df[\"laplacian_var\"][indx], df[\"purple_cover\"][indx], df[\"brown_cover\"][indx]]\n",
    "        label = model.predict([example])\n",
    "        label = np.argmax(label, axis=-1)[0]\n",
    "        if df[\"gt_label\"][indx] == \"out_of_focus\":\n",
    "            total += 1\n",
    "            if label == 1:\n",
    "                tp += 1\n",
    "            else:\n",
    "                fn += 1\n",
    "        else:\n",
    "            if label == 1:\n",
    "                fp += 1\n",
    "            else:\n",
    "                tn += 1"
   ]
  },
  {
   "cell_type": "markdown",
   "metadata": {},
   "source": [
    "## Results with 20 epochs"
   ]
  },
  {
   "cell_type": "code",
   "execution_count": 37,
   "metadata": {},
   "outputs": [
    {
     "name": "stdout",
     "output_type": "stream",
     "text": [
      "Total OOF Images: 1461\n",
      "TP: 1260, FP: 32, FN: 201, TN: 2927\n"
     ]
    }
   ],
   "source": [
    "print(\"Total OOF Images: {}\".format(total))\n",
    "print(\"TP: {}, FP: {}, FN: {}, TN: {}\".format(tp, fp, fn, tn))"
   ]
  },
  {
   "cell_type": "markdown",
   "metadata": {},
   "source": [
    "### Results with 100 epochs"
   ]
  },
  {
   "cell_type": "code",
   "execution_count": 34,
   "metadata": {},
   "outputs": [
    {
     "name": "stdout",
     "output_type": "stream",
     "text": [
      "Total OOF Images: 1461\n",
      "TP: 1402, FP: 526, FN: 59, TN: 2433\n"
     ]
    }
   ],
   "source": [
    "print(\"Total OOF Images: {}\".format(total))\n",
    "print(\"TP: {}, FP: {}, FN: {}, TN: {}\".format(tp, fp, fn, tn))"
   ]
  },
  {
   "cell_type": "code",
   "execution_count": 55,
   "metadata": {},
   "outputs": [
    {
     "name": "stdout",
     "output_type": "stream",
     "text": [
      "Model: \"model\"\n",
      "__________________________________________________________________________________________________\n",
      "Layer (type)                    Output Shape         Param #     Connected to                     \n",
      "==================================================================================================\n",
      "input_2 (InputLayer)            [(None, 256, 256, 1) 0                                            \n",
      "__________________________________________________________________________________________________\n",
      "conv2d (Conv2D)                 (None, 254, 254, 8)  80          input_2[0][0]                    \n",
      "__________________________________________________________________________________________________\n",
      "max_pooling2d (MaxPooling2D)    (None, 127, 127, 8)  0           conv2d[0][0]                     \n",
      "__________________________________________________________________________________________________\n",
      "conv2d_1 (Conv2D)               (None, 125, 125, 8)  584         max_pooling2d[0][0]              \n",
      "__________________________________________________________________________________________________\n",
      "max_pooling2d_1 (MaxPooling2D)  (None, 62, 62, 8)    0           conv2d_1[0][0]                   \n",
      "__________________________________________________________________________________________________\n",
      "conv2d_2 (Conv2D)               (None, 60, 60, 8)    584         max_pooling2d_1[0][0]            \n",
      "__________________________________________________________________________________________________\n",
      "max_pooling2d_2 (MaxPooling2D)  (None, 30, 30, 8)    0           conv2d_2[0][0]                   \n",
      "__________________________________________________________________________________________________\n",
      "flatten (Flatten)               (None, 7200)         0           max_pooling2d_2[0][0]            \n",
      "__________________________________________________________________________________________________\n",
      "dense_2 (Dense)                 (None, 16)           115216      flatten[0][0]                    \n",
      "__________________________________________________________________________________________________\n",
      "input_3 (InputLayer)            [(None, 1)]          0                                            \n",
      "__________________________________________________________________________________________________\n",
      "concatenate (Concatenate)       (None, 17)           0           dense_2[0][0]                    \n",
      "                                                                 input_3[0][0]                    \n",
      "__________________________________________________________________________________________________\n",
      "dense_3 (Dense)                 (None, 6)            108         concatenate[0][0]                \n",
      "==================================================================================================\n",
      "Total params: 116,572\n",
      "Trainable params: 116,572\n",
      "Non-trainable params: 0\n",
      "__________________________________________________________________________________________________\n"
     ]
    }
   ],
   "source": [
    "input_hsv = tf.keras.Input(shape=[256,256,1])\n",
    "input_lap_var = tf.keras.Input(shape=[1])\n",
    "\n",
    "x = tf.keras.layers.Conv2D(8, kernel_size=(3,3), activation=\"relu\")(input_hsv)\n",
    "x = tf.keras.layers.MaxPool2D()(x)\n",
    "x = tf.keras.layers.Conv2D(8, kernel_size=(3,3), activation=\"relu\")(x)\n",
    "x = tf.keras.layers.MaxPool2D()(x)\n",
    "x = tf.keras.layers.Conv2D(8, kernel_size=(3,3), activation=\"relu\")(x)\n",
    "x = tf.keras.layers.MaxPool2D()(x)\n",
    "\n",
    "x = tf.keras.layers.Flatten()(x)\n",
    "x = tf.keras.layers.Dense(16)(x)\n",
    "x = tf.keras.layers.Concatenate()([x, input_lap_var])\n",
    "out = tf.keras.layers.Dense(6, activation=\"sigmoid\")(x)\n",
    "\n",
    "cnn_model = tf.keras.Model([input_hsv, input_lap_var], out)\n",
    "cnn_model.summary()"
   ]
  },
  {
   "cell_type": "code",
   "execution_count": 56,
   "metadata": {},
   "outputs": [
    {
     "data": {
      "image/png": "[encoded data removed]",
      "text/plain": [
       "<IPython.core.display.Image object>"
      ]
     },
     "execution_count": 56,
     "metadata": {},
     "output_type": "execute_result"
    }
   ],
   "source": [
    "tf.keras.utils.plot_model(cnn_model, show_shapes=True)"
   ]
  },
  {
   "cell_type": "code",
   "execution_count": 57,
   "metadata": {},
   "outputs": [],
   "source": [
    "def hsv_hist(img):\n",
    "    hsv = cv2.cvtColor(img, cv2.COLOR_BGR2HSV)\n",
    "    hist = cv2.calcHist([hsv], [0, 1], None, [256, 256], [0, 256, 0, 256])\n",
    "    #print(hist)8\n",
    "    return hist"
   ]
  },
  {
   "cell_type": "code",
   "execution_count": 59,
   "metadata": {},
   "outputs": [
    {
     "name": "stdout",
     "output_type": "stream",
     "text": [
      "5566\r"
     ]
    }
   ],
   "source": [
    "label_dict = {\"out_of_focus\":1, \"HE\":2, \"negative\":3, \"strong_positive\":4, \"dim_positive\":5, \"no_tissue\": 0}\n",
    "x_train,y_train = [], []\n",
    "x_test,y_test = [], []\n",
    "for indx in df.index:\n",
    "    print(indx, end=\"\\r\")\n",
    "    #if indx > 100:\n",
    "    #    break\n",
    "    if df[\"gt_label\"][indx] == \"necrotic\":\n",
    "        continue\n",
    "    else:\n",
    "        img_path = \"/home/jupyter/\" + df[\"path\"][indx][22:]\n",
    "        im = cv2.imread(img_path)\n",
    "        hist = hsv_hist(im)\n",
    "        #print(im.shape)\n",
    "        #break\n",
    "        example = [np.expand_dims(hist, axis=-1), [var_of_laplacian(im)]]\n",
    "        label = label_dict[df[\"gt_label\"][indx]]\n",
    "        \n",
    "        if df[\"split\"][indx] == \"TEST\" or df[\"split\"][indx] == \"VALIDATION\":\n",
    "            x_test.append(example)\n",
    "            y_test.append(label)\n",
    "        else:\n",
    "            x_train.append(example)\n",
    "            y_train.append(label)"
   ]
  },
  {
   "cell_type": "code",
   "execution_count": 60,
   "metadata": {},
   "outputs": [],
   "source": [
    "def generator_train():\n",
    "    X = x_train\n",
    "    Y= y_train\n",
    "    for i,x in enumerate(X):\n",
    "        yield (x[0], x[1]),Y[i]"
   ]
  },
  {
   "cell_type": "code",
   "execution_count": 61,
   "metadata": {},
   "outputs": [],
   "source": [
    "def generator_test():\n",
    "    X = x_test\n",
    "    Y= y_test\n",
    "    for i,x in enumerate(X):\n",
    "        yield (x[0], x[1]),Y[i]"
   ]
  },
  {
   "cell_type": "code",
   "execution_count": 62,
   "metadata": {},
   "outputs": [],
   "source": [
    "train = tf.data.Dataset.from_generator(generator_train ,\n",
    "                                        output_types= ((tf.uint8, tf.float32), tf.uint8),\n",
    "                                        output_shapes= (([256,256,1], [1]),[]))\n",
    "train = train.batch(16)\n",
    "\n",
    "val = tf.data.Dataset.from_generator(generator_test ,\n",
    "                                        output_types= ((tf.uint8, tf.float32), tf.uint8),\n",
    "                                        output_shapes= (([256,256,1], [1]),[]))\n",
    "val = val.batch(16)"
   ]
  },
  {
   "cell_type": "code",
   "execution_count": 69,
   "metadata": {},
   "outputs": [
    {
     "data": {
      "text/plain": [
       "4262"
      ]
     },
     "execution_count": 69,
     "metadata": {},
     "output_type": "execute_result"
    }
   ],
   "source": [
    "len(x_train)"
   ]
  },
  {
   "cell_type": "code",
   "execution_count": 63,
   "metadata": {},
   "outputs": [
    {
     "name": "stdout",
     "output_type": "stream",
     "text": [
      "(16, 256, 256, 1)\n"
     ]
    }
   ],
   "source": [
    "for x in train.take(1):\n",
    "    print(x[0][0].shape)"
   ]
  },
  {
   "cell_type": "code",
   "execution_count": 64,
   "metadata": {},
   "outputs": [],
   "source": [
    "cnn_model.compile(optimizer=tf.keras.optimizers.Adam(lr=0.001), loss = \"sparse_categorical_crossentropy\", metrics=[\"accuracy\"])"
   ]
  },
  {
   "cell_type": "code",
   "execution_count": 65,
   "metadata": {},
   "outputs": [
    {
     "name": "stdout",
     "output_type": "stream",
     "text": [
      "Epoch 1/10\n",
      "267/267 [==============================] - 53s 199ms/step - loss: 88.8698 - accuracy: 0.5788 - val_loss: 18.2776 - val_accuracy: 0.8462\n",
      "Epoch 2/10\n",
      "267/267 [==============================] - 53s 200ms/step - loss: 13.4347 - accuracy: 0.8534 - val_loss: 11.1904 - val_accuracy: 0.8733\n",
      "Epoch 3/10\n",
      "267/267 [==============================] - 53s 198ms/step - loss: 9.1005 - accuracy: 0.8770 - val_loss: 10.3133 - val_accuracy: 0.8770\n",
      "Epoch 4/10\n",
      "267/267 [==============================] - 54s 201ms/step - loss: 6.5671 - accuracy: 0.8916 - val_loss: 7.7294 - val_accuracy: 0.8816\n",
      "Epoch 5/10\n",
      "267/267 [==============================] - 55s 204ms/step - loss: 5.4694 - accuracy: 0.8979 - val_loss: 8.7440 - val_accuracy: 0.8882\n",
      "Epoch 6/10\n",
      "267/267 [==============================] - 54s 201ms/step - loss: 3.8936 - accuracy: 0.9140 - val_loss: 6.6146 - val_accuracy: 0.8891\n",
      "Epoch 7/10\n",
      "267/267 [==============================] - 53s 200ms/step - loss: 3.0461 - accuracy: 0.9183 - val_loss: 5.4474 - val_accuracy: 0.8882\n",
      "Epoch 8/10\n",
      "267/267 [==============================] - 53s 199ms/step - loss: 2.6573 - accuracy: 0.9213 - val_loss: 4.4402 - val_accuracy: 0.8910\n",
      "Epoch 9/10\n",
      "267/267 [==============================] - 53s 199ms/step - loss: 2.1376 - accuracy: 0.9244 - val_loss: 4.2155 - val_accuracy: 0.8910\n",
      "Epoch 10/10\n",
      "267/267 [==============================] - 54s 201ms/step - loss: 1.8427 - accuracy: 0.9274 - val_loss: 3.7479 - val_accuracy: 0.8863\n"
     ]
    },
    {
     "data": {
      "text/plain": [
       "<tensorflow.python.keras.callbacks.History at 0x7f9a981608d0>"
      ]
     },
     "execution_count": 65,
     "metadata": {},
     "output_type": "execute_result"
    }
   ],
   "source": [
    "cnn_model.fit(train, validation_data=val, epochs=10)"
   ]
  },
  {
   "cell_type": "code",
   "execution_count": 70,
   "metadata": {},
   "outputs": [
    {
     "ename": "ValueError",
     "evalue": "in user code:\n\n    /opt/conda/lib/python3.7/site-packages/tensorflow/python/keras/engine/training.py:1478 predict_function  *\n        return step_function(self, iterator)\n    /opt/conda/lib/python3.7/site-packages/tensorflow/python/keras/engine/training.py:1468 step_function  **\n        outputs = model.distribute_strategy.run(run_step, args=(data,))\n    /opt/conda/lib/python3.7/site-packages/tensorflow/python/distribute/distribute_lib.py:1259 run\n        return self._extended.call_for_each_replica(fn, args=args, kwargs=kwargs)\n    /opt/conda/lib/python3.7/site-packages/tensorflow/python/distribute/distribute_lib.py:2730 call_for_each_replica\n        return self._call_for_each_replica(fn, args, kwargs)\n    /opt/conda/lib/python3.7/site-packages/tensorflow/python/distribute/distribute_lib.py:3417 _call_for_each_replica\n        return fn(*args, **kwargs)\n    /opt/conda/lib/python3.7/site-packages/tensorflow/python/keras/engine/training.py:1461 run_step  **\n        outputs = model.predict_step(data)\n    /opt/conda/lib/python3.7/site-packages/tensorflow/python/keras/engine/training.py:1434 predict_step\n        return self(x, training=False)\n    /opt/conda/lib/python3.7/site-packages/tensorflow/python/keras/engine/base_layer.py:998 __call__\n        input_spec.assert_input_compatibility(self.input_spec, inputs, self.name)\n    /opt/conda/lib/python3.7/site-packages/tensorflow/python/keras/engine/input_spec.py:207 assert_input_compatibility\n        ' input tensors. Inputs received: ' + str(inputs))\n\n    ValueError: Layer model expects 2 input(s), but it received 1 input tensors. Inputs received: [<tf.Tensor 'IteratorGetNext:0' shape=(None, 3) dtype=float32>]\n",
     "output_type": "error",
     "traceback": [
      "\u001b[0;31m---------------------------------------------------------------------------\u001b[0m",
      "\u001b[0;31mValueError\u001b[0m                                Traceback (most recent call last)",
      "\u001b[0;32m<ipython-input-70-fb81cb97e154>\u001b[0m in \u001b[0;36m<module>\u001b[0;34m\u001b[0m\n\u001b[1;32m      6\u001b[0m     \u001b[0;32melse\u001b[0m\u001b[0;34m:\u001b[0m\u001b[0;34m\u001b[0m\u001b[0;34m\u001b[0m\u001b[0m\n\u001b[1;32m      7\u001b[0m         \u001b[0mexample\u001b[0m \u001b[0;34m=\u001b[0m \u001b[0;34m[\u001b[0m\u001b[0mdf\u001b[0m\u001b[0;34m[\u001b[0m\u001b[0;34m\"laplacian_var\"\u001b[0m\u001b[0;34m]\u001b[0m\u001b[0;34m[\u001b[0m\u001b[0mindx\u001b[0m\u001b[0;34m]\u001b[0m\u001b[0;34m,\u001b[0m \u001b[0mdf\u001b[0m\u001b[0;34m[\u001b[0m\u001b[0;34m\"purple_cover\"\u001b[0m\u001b[0;34m]\u001b[0m\u001b[0;34m[\u001b[0m\u001b[0mindx\u001b[0m\u001b[0;34m]\u001b[0m\u001b[0;34m,\u001b[0m \u001b[0mdf\u001b[0m\u001b[0;34m[\u001b[0m\u001b[0;34m\"brown_cover\"\u001b[0m\u001b[0;34m]\u001b[0m\u001b[0;34m[\u001b[0m\u001b[0mindx\u001b[0m\u001b[0;34m]\u001b[0m\u001b[0;34m]\u001b[0m\u001b[0;34m\u001b[0m\u001b[0;34m\u001b[0m\u001b[0m\n\u001b[0;32m----> 8\u001b[0;31m         \u001b[0mlabel\u001b[0m \u001b[0;34m=\u001b[0m \u001b[0mcnn_model\u001b[0m\u001b[0;34m.\u001b[0m\u001b[0mpredict\u001b[0m\u001b[0;34m(\u001b[0m\u001b[0;34m[\u001b[0m\u001b[0mexample\u001b[0m\u001b[0;34m]\u001b[0m\u001b[0;34m)\u001b[0m\u001b[0;34m\u001b[0m\u001b[0;34m\u001b[0m\u001b[0m\n\u001b[0m\u001b[1;32m      9\u001b[0m         \u001b[0mlabel\u001b[0m \u001b[0;34m=\u001b[0m \u001b[0mnp\u001b[0m\u001b[0;34m.\u001b[0m\u001b[0margmax\u001b[0m\u001b[0;34m(\u001b[0m\u001b[0mlabel\u001b[0m\u001b[0;34m,\u001b[0m \u001b[0maxis\u001b[0m\u001b[0;34m=\u001b[0m\u001b[0;34m-\u001b[0m\u001b[0;36m1\u001b[0m\u001b[0;34m)\u001b[0m\u001b[0;34m[\u001b[0m\u001b[0;36m0\u001b[0m\u001b[0;34m]\u001b[0m\u001b[0;34m\u001b[0m\u001b[0;34m\u001b[0m\u001b[0m\n\u001b[1;32m     10\u001b[0m         \u001b[0;32mif\u001b[0m \u001b[0mdf\u001b[0m\u001b[0;34m[\u001b[0m\u001b[0;34m\"gt_label\"\u001b[0m\u001b[0;34m]\u001b[0m\u001b[0;34m[\u001b[0m\u001b[0mindx\u001b[0m\u001b[0;34m]\u001b[0m \u001b[0;34m==\u001b[0m \u001b[0;34m\"out_of_focus\"\u001b[0m\u001b[0;34m:\u001b[0m\u001b[0;34m\u001b[0m\u001b[0;34m\u001b[0m\u001b[0m\n",
      "\u001b[0;32m/opt/conda/lib/python3.7/site-packages/tensorflow/python/keras/engine/training.py\u001b[0m in \u001b[0;36mpredict\u001b[0;34m(self, x, batch_size, verbose, steps, callbacks, max_queue_size, workers, use_multiprocessing)\u001b[0m\n\u001b[1;32m   1627\u001b[0m           \u001b[0;32mfor\u001b[0m \u001b[0mstep\u001b[0m \u001b[0;32min\u001b[0m \u001b[0mdata_handler\u001b[0m\u001b[0;34m.\u001b[0m\u001b[0msteps\u001b[0m\u001b[0;34m(\u001b[0m\u001b[0;34m)\u001b[0m\u001b[0;34m:\u001b[0m\u001b[0;34m\u001b[0m\u001b[0;34m\u001b[0m\u001b[0m\n\u001b[1;32m   1628\u001b[0m             \u001b[0mcallbacks\u001b[0m\u001b[0;34m.\u001b[0m\u001b[0mon_predict_batch_begin\u001b[0m\u001b[0;34m(\u001b[0m\u001b[0mstep\u001b[0m\u001b[0;34m)\u001b[0m\u001b[0;34m\u001b[0m\u001b[0;34m\u001b[0m\u001b[0m\n\u001b[0;32m-> 1629\u001b[0;31m             \u001b[0mtmp_batch_outputs\u001b[0m \u001b[0;34m=\u001b[0m \u001b[0mself\u001b[0m\u001b[0;34m.\u001b[0m\u001b[0mpredict_function\u001b[0m\u001b[0;34m(\u001b[0m\u001b[0miterator\u001b[0m\u001b[0;34m)\u001b[0m\u001b[0;34m\u001b[0m\u001b[0;34m\u001b[0m\u001b[0m\n\u001b[0m\u001b[1;32m   1630\u001b[0m             \u001b[0;32mif\u001b[0m \u001b[0mdata_handler\u001b[0m\u001b[0;34m.\u001b[0m\u001b[0mshould_sync\u001b[0m\u001b[0;34m:\u001b[0m\u001b[0;34m\u001b[0m\u001b[0;34m\u001b[0m\u001b[0m\n\u001b[1;32m   1631\u001b[0m               \u001b[0mcontext\u001b[0m\u001b[0;34m.\u001b[0m\u001b[0masync_wait\u001b[0m\u001b[0;34m(\u001b[0m\u001b[0;34m)\u001b[0m\u001b[0;34m\u001b[0m\u001b[0;34m\u001b[0m\u001b[0m\n",
      "\u001b[0;32m/opt/conda/lib/python3.7/site-packages/tensorflow/python/eager/def_function.py\u001b[0m in \u001b[0;36m__call__\u001b[0;34m(self, *args, **kwds)\u001b[0m\n\u001b[1;32m    826\u001b[0m     \u001b[0mtracing_count\u001b[0m \u001b[0;34m=\u001b[0m \u001b[0mself\u001b[0m\u001b[0;34m.\u001b[0m\u001b[0mexperimental_get_tracing_count\u001b[0m\u001b[0;34m(\u001b[0m\u001b[0;34m)\u001b[0m\u001b[0;34m\u001b[0m\u001b[0;34m\u001b[0m\u001b[0m\n\u001b[1;32m    827\u001b[0m     \u001b[0;32mwith\u001b[0m \u001b[0mtrace\u001b[0m\u001b[0;34m.\u001b[0m\u001b[0mTrace\u001b[0m\u001b[0;34m(\u001b[0m\u001b[0mself\u001b[0m\u001b[0;34m.\u001b[0m\u001b[0m_name\u001b[0m\u001b[0;34m)\u001b[0m \u001b[0;32mas\u001b[0m \u001b[0mtm\u001b[0m\u001b[0;34m:\u001b[0m\u001b[0;34m\u001b[0m\u001b[0;34m\u001b[0m\u001b[0m\n\u001b[0;32m--> 828\u001b[0;31m       \u001b[0mresult\u001b[0m \u001b[0;34m=\u001b[0m \u001b[0mself\u001b[0m\u001b[0;34m.\u001b[0m\u001b[0m_call\u001b[0m\u001b[0;34m(\u001b[0m\u001b[0;34m*\u001b[0m\u001b[0margs\u001b[0m\u001b[0;34m,\u001b[0m \u001b[0;34m**\u001b[0m\u001b[0mkwds\u001b[0m\u001b[0;34m)\u001b[0m\u001b[0;34m\u001b[0m\u001b[0;34m\u001b[0m\u001b[0m\n\u001b[0m\u001b[1;32m    829\u001b[0m       \u001b[0mcompiler\u001b[0m \u001b[0;34m=\u001b[0m \u001b[0;34m\"xla\"\u001b[0m \u001b[0;32mif\u001b[0m \u001b[0mself\u001b[0m\u001b[0;34m.\u001b[0m\u001b[0m_experimental_compile\u001b[0m \u001b[0;32melse\u001b[0m \u001b[0;34m\"nonXla\"\u001b[0m\u001b[0;34m\u001b[0m\u001b[0;34m\u001b[0m\u001b[0m\n\u001b[1;32m    830\u001b[0m       \u001b[0mnew_tracing_count\u001b[0m \u001b[0;34m=\u001b[0m \u001b[0mself\u001b[0m\u001b[0;34m.\u001b[0m\u001b[0mexperimental_get_tracing_count\u001b[0m\u001b[0;34m(\u001b[0m\u001b[0;34m)\u001b[0m\u001b[0;34m\u001b[0m\u001b[0;34m\u001b[0m\u001b[0m\n",
      "\u001b[0;32m/opt/conda/lib/python3.7/site-packages/tensorflow/python/eager/def_function.py\u001b[0m in \u001b[0;36m_call\u001b[0;34m(self, *args, **kwds)\u001b[0m\n\u001b[1;32m    869\u001b[0m       \u001b[0;31m# This is the first call of __call__, so we have to initialize.\u001b[0m\u001b[0;34m\u001b[0m\u001b[0;34m\u001b[0m\u001b[0;34m\u001b[0m\u001b[0m\n\u001b[1;32m    870\u001b[0m       \u001b[0minitializers\u001b[0m \u001b[0;34m=\u001b[0m \u001b[0;34m[\u001b[0m\u001b[0;34m]\u001b[0m\u001b[0;34m\u001b[0m\u001b[0;34m\u001b[0m\u001b[0m\n\u001b[0;32m--> 871\u001b[0;31m       \u001b[0mself\u001b[0m\u001b[0;34m.\u001b[0m\u001b[0m_initialize\u001b[0m\u001b[0;34m(\u001b[0m\u001b[0margs\u001b[0m\u001b[0;34m,\u001b[0m \u001b[0mkwds\u001b[0m\u001b[0;34m,\u001b[0m \u001b[0madd_initializers_to\u001b[0m\u001b[0;34m=\u001b[0m\u001b[0minitializers\u001b[0m\u001b[0;34m)\u001b[0m\u001b[0;34m\u001b[0m\u001b[0;34m\u001b[0m\u001b[0m\n\u001b[0m\u001b[1;32m    872\u001b[0m     \u001b[0;32mfinally\u001b[0m\u001b[0;34m:\u001b[0m\u001b[0;34m\u001b[0m\u001b[0;34m\u001b[0m\u001b[0m\n\u001b[1;32m    873\u001b[0m       \u001b[0;31m# At this point we know that the initialization is complete (or less\u001b[0m\u001b[0;34m\u001b[0m\u001b[0;34m\u001b[0m\u001b[0;34m\u001b[0m\u001b[0m\n",
      "\u001b[0;32m/opt/conda/lib/python3.7/site-packages/tensorflow/python/eager/def_function.py\u001b[0m in \u001b[0;36m_initialize\u001b[0;34m(self, args, kwds, add_initializers_to)\u001b[0m\n\u001b[1;32m    724\u001b[0m     self._concrete_stateful_fn = (\n\u001b[1;32m    725\u001b[0m         self._stateful_fn._get_concrete_function_internal_garbage_collected(  # pylint: disable=protected-access\n\u001b[0;32m--> 726\u001b[0;31m             *args, **kwds))\n\u001b[0m\u001b[1;32m    727\u001b[0m \u001b[0;34m\u001b[0m\u001b[0m\n\u001b[1;32m    728\u001b[0m     \u001b[0;32mdef\u001b[0m \u001b[0minvalid_creator_scope\u001b[0m\u001b[0;34m(\u001b[0m\u001b[0;34m*\u001b[0m\u001b[0munused_args\u001b[0m\u001b[0;34m,\u001b[0m \u001b[0;34m**\u001b[0m\u001b[0munused_kwds\u001b[0m\u001b[0;34m)\u001b[0m\u001b[0;34m:\u001b[0m\u001b[0;34m\u001b[0m\u001b[0;34m\u001b[0m\u001b[0m\n",
      "\u001b[0;32m/opt/conda/lib/python3.7/site-packages/tensorflow/python/eager/function.py\u001b[0m in \u001b[0;36m_get_concrete_function_internal_garbage_collected\u001b[0;34m(self, *args, **kwargs)\u001b[0m\n\u001b[1;32m   2967\u001b[0m       \u001b[0margs\u001b[0m\u001b[0;34m,\u001b[0m \u001b[0mkwargs\u001b[0m \u001b[0;34m=\u001b[0m \u001b[0;32mNone\u001b[0m\u001b[0;34m,\u001b[0m \u001b[0;32mNone\u001b[0m\u001b[0;34m\u001b[0m\u001b[0;34m\u001b[0m\u001b[0m\n\u001b[1;32m   2968\u001b[0m     \u001b[0;32mwith\u001b[0m \u001b[0mself\u001b[0m\u001b[0;34m.\u001b[0m\u001b[0m_lock\u001b[0m\u001b[0;34m:\u001b[0m\u001b[0;34m\u001b[0m\u001b[0;34m\u001b[0m\u001b[0m\n\u001b[0;32m-> 2969\u001b[0;31m       \u001b[0mgraph_function\u001b[0m\u001b[0;34m,\u001b[0m \u001b[0m_\u001b[0m \u001b[0;34m=\u001b[0m \u001b[0mself\u001b[0m\u001b[0;34m.\u001b[0m\u001b[0m_maybe_define_function\u001b[0m\u001b[0;34m(\u001b[0m\u001b[0margs\u001b[0m\u001b[0;34m,\u001b[0m \u001b[0mkwargs\u001b[0m\u001b[0;34m)\u001b[0m\u001b[0;34m\u001b[0m\u001b[0;34m\u001b[0m\u001b[0m\n\u001b[0m\u001b[1;32m   2970\u001b[0m     \u001b[0;32mreturn\u001b[0m \u001b[0mgraph_function\u001b[0m\u001b[0;34m\u001b[0m\u001b[0;34m\u001b[0m\u001b[0m\n\u001b[1;32m   2971\u001b[0m \u001b[0;34m\u001b[0m\u001b[0m\n",
      "\u001b[0;32m/opt/conda/lib/python3.7/site-packages/tensorflow/python/eager/function.py\u001b[0m in \u001b[0;36m_maybe_define_function\u001b[0;34m(self, args, kwargs)\u001b[0m\n\u001b[1;32m   3359\u001b[0m \u001b[0;34m\u001b[0m\u001b[0m\n\u001b[1;32m   3360\u001b[0m           \u001b[0mself\u001b[0m\u001b[0;34m.\u001b[0m\u001b[0m_function_cache\u001b[0m\u001b[0;34m.\u001b[0m\u001b[0mmissed\u001b[0m\u001b[0;34m.\u001b[0m\u001b[0madd\u001b[0m\u001b[0;34m(\u001b[0m\u001b[0mcall_context_key\u001b[0m\u001b[0;34m)\u001b[0m\u001b[0;34m\u001b[0m\u001b[0;34m\u001b[0m\u001b[0m\n\u001b[0;32m-> 3361\u001b[0;31m           \u001b[0mgraph_function\u001b[0m \u001b[0;34m=\u001b[0m \u001b[0mself\u001b[0m\u001b[0;34m.\u001b[0m\u001b[0m_create_graph_function\u001b[0m\u001b[0;34m(\u001b[0m\u001b[0margs\u001b[0m\u001b[0;34m,\u001b[0m \u001b[0mkwargs\u001b[0m\u001b[0;34m)\u001b[0m\u001b[0;34m\u001b[0m\u001b[0;34m\u001b[0m\u001b[0m\n\u001b[0m\u001b[1;32m   3362\u001b[0m           \u001b[0mself\u001b[0m\u001b[0;34m.\u001b[0m\u001b[0m_function_cache\u001b[0m\u001b[0;34m.\u001b[0m\u001b[0mprimary\u001b[0m\u001b[0;34m[\u001b[0m\u001b[0mcache_key\u001b[0m\u001b[0;34m]\u001b[0m \u001b[0;34m=\u001b[0m \u001b[0mgraph_function\u001b[0m\u001b[0;34m\u001b[0m\u001b[0;34m\u001b[0m\u001b[0m\n\u001b[1;32m   3363\u001b[0m \u001b[0;34m\u001b[0m\u001b[0m\n",
      "\u001b[0;32m/opt/conda/lib/python3.7/site-packages/tensorflow/python/eager/function.py\u001b[0m in \u001b[0;36m_create_graph_function\u001b[0;34m(self, args, kwargs, override_flat_arg_shapes)\u001b[0m\n\u001b[1;32m   3204\u001b[0m             \u001b[0marg_names\u001b[0m\u001b[0;34m=\u001b[0m\u001b[0marg_names\u001b[0m\u001b[0;34m,\u001b[0m\u001b[0;34m\u001b[0m\u001b[0;34m\u001b[0m\u001b[0m\n\u001b[1;32m   3205\u001b[0m             \u001b[0moverride_flat_arg_shapes\u001b[0m\u001b[0;34m=\u001b[0m\u001b[0moverride_flat_arg_shapes\u001b[0m\u001b[0;34m,\u001b[0m\u001b[0;34m\u001b[0m\u001b[0;34m\u001b[0m\u001b[0m\n\u001b[0;32m-> 3206\u001b[0;31m             capture_by_value=self._capture_by_value),\n\u001b[0m\u001b[1;32m   3207\u001b[0m         \u001b[0mself\u001b[0m\u001b[0;34m.\u001b[0m\u001b[0m_function_attributes\u001b[0m\u001b[0;34m,\u001b[0m\u001b[0;34m\u001b[0m\u001b[0;34m\u001b[0m\u001b[0m\n\u001b[1;32m   3208\u001b[0m         \u001b[0mfunction_spec\u001b[0m\u001b[0;34m=\u001b[0m\u001b[0mself\u001b[0m\u001b[0;34m.\u001b[0m\u001b[0mfunction_spec\u001b[0m\u001b[0;34m,\u001b[0m\u001b[0;34m\u001b[0m\u001b[0;34m\u001b[0m\u001b[0m\n",
      "\u001b[0;32m/opt/conda/lib/python3.7/site-packages/tensorflow/python/framework/func_graph.py\u001b[0m in \u001b[0;36mfunc_graph_from_py_func\u001b[0;34m(name, python_func, args, kwargs, signature, func_graph, autograph, autograph_options, add_control_dependencies, arg_names, op_return_value, collections, capture_by_value, override_flat_arg_shapes)\u001b[0m\n\u001b[1;32m    988\u001b[0m         \u001b[0m_\u001b[0m\u001b[0;34m,\u001b[0m \u001b[0moriginal_func\u001b[0m \u001b[0;34m=\u001b[0m \u001b[0mtf_decorator\u001b[0m\u001b[0;34m.\u001b[0m\u001b[0munwrap\u001b[0m\u001b[0;34m(\u001b[0m\u001b[0mpython_func\u001b[0m\u001b[0;34m)\u001b[0m\u001b[0;34m\u001b[0m\u001b[0;34m\u001b[0m\u001b[0m\n\u001b[1;32m    989\u001b[0m \u001b[0;34m\u001b[0m\u001b[0m\n\u001b[0;32m--> 990\u001b[0;31m       \u001b[0mfunc_outputs\u001b[0m \u001b[0;34m=\u001b[0m \u001b[0mpython_func\u001b[0m\u001b[0;34m(\u001b[0m\u001b[0;34m*\u001b[0m\u001b[0mfunc_args\u001b[0m\u001b[0;34m,\u001b[0m \u001b[0;34m**\u001b[0m\u001b[0mfunc_kwargs\u001b[0m\u001b[0;34m)\u001b[0m\u001b[0;34m\u001b[0m\u001b[0;34m\u001b[0m\u001b[0m\n\u001b[0m\u001b[1;32m    991\u001b[0m \u001b[0;34m\u001b[0m\u001b[0m\n\u001b[1;32m    992\u001b[0m       \u001b[0;31m# invariant: `func_outputs` contains only Tensors, CompositeTensors,\u001b[0m\u001b[0;34m\u001b[0m\u001b[0;34m\u001b[0m\u001b[0;34m\u001b[0m\u001b[0m\n",
      "\u001b[0;32m/opt/conda/lib/python3.7/site-packages/tensorflow/python/eager/def_function.py\u001b[0m in \u001b[0;36mwrapped_fn\u001b[0;34m(*args, **kwds)\u001b[0m\n\u001b[1;32m    632\u001b[0m             \u001b[0mxla_context\u001b[0m\u001b[0;34m.\u001b[0m\u001b[0mExit\u001b[0m\u001b[0;34m(\u001b[0m\u001b[0;34m)\u001b[0m\u001b[0;34m\u001b[0m\u001b[0;34m\u001b[0m\u001b[0m\n\u001b[1;32m    633\u001b[0m         \u001b[0;32melse\u001b[0m\u001b[0;34m:\u001b[0m\u001b[0;34m\u001b[0m\u001b[0;34m\u001b[0m\u001b[0m\n\u001b[0;32m--> 634\u001b[0;31m           \u001b[0mout\u001b[0m \u001b[0;34m=\u001b[0m \u001b[0mweak_wrapped_fn\u001b[0m\u001b[0;34m(\u001b[0m\u001b[0;34m)\u001b[0m\u001b[0;34m.\u001b[0m\u001b[0m__wrapped__\u001b[0m\u001b[0;34m(\u001b[0m\u001b[0;34m*\u001b[0m\u001b[0margs\u001b[0m\u001b[0;34m,\u001b[0m \u001b[0;34m**\u001b[0m\u001b[0mkwds\u001b[0m\u001b[0;34m)\u001b[0m\u001b[0;34m\u001b[0m\u001b[0;34m\u001b[0m\u001b[0m\n\u001b[0m\u001b[1;32m    635\u001b[0m         \u001b[0;32mreturn\u001b[0m \u001b[0mout\u001b[0m\u001b[0;34m\u001b[0m\u001b[0;34m\u001b[0m\u001b[0m\n\u001b[1;32m    636\u001b[0m \u001b[0;34m\u001b[0m\u001b[0m\n",
      "\u001b[0;32m/opt/conda/lib/python3.7/site-packages/tensorflow/python/framework/func_graph.py\u001b[0m in \u001b[0;36mwrapper\u001b[0;34m(*args, **kwargs)\u001b[0m\n\u001b[1;32m    975\u001b[0m           \u001b[0;32mexcept\u001b[0m \u001b[0mException\u001b[0m \u001b[0;32mas\u001b[0m \u001b[0me\u001b[0m\u001b[0;34m:\u001b[0m  \u001b[0;31m# pylint:disable=broad-except\u001b[0m\u001b[0;34m\u001b[0m\u001b[0;34m\u001b[0m\u001b[0m\n\u001b[1;32m    976\u001b[0m             \u001b[0;32mif\u001b[0m \u001b[0mhasattr\u001b[0m\u001b[0;34m(\u001b[0m\u001b[0me\u001b[0m\u001b[0;34m,\u001b[0m \u001b[0;34m\"ag_error_metadata\"\u001b[0m\u001b[0;34m)\u001b[0m\u001b[0;34m:\u001b[0m\u001b[0;34m\u001b[0m\u001b[0;34m\u001b[0m\u001b[0m\n\u001b[0;32m--> 977\u001b[0;31m               \u001b[0;32mraise\u001b[0m \u001b[0me\u001b[0m\u001b[0;34m.\u001b[0m\u001b[0mag_error_metadata\u001b[0m\u001b[0;34m.\u001b[0m\u001b[0mto_exception\u001b[0m\u001b[0;34m(\u001b[0m\u001b[0me\u001b[0m\u001b[0;34m)\u001b[0m\u001b[0;34m\u001b[0m\u001b[0;34m\u001b[0m\u001b[0m\n\u001b[0m\u001b[1;32m    978\u001b[0m             \u001b[0;32melse\u001b[0m\u001b[0;34m:\u001b[0m\u001b[0;34m\u001b[0m\u001b[0;34m\u001b[0m\u001b[0m\n\u001b[1;32m    979\u001b[0m               \u001b[0;32mraise\u001b[0m\u001b[0;34m\u001b[0m\u001b[0;34m\u001b[0m\u001b[0m\n",
      "\u001b[0;31mValueError\u001b[0m: in user code:\n\n    /opt/conda/lib/python3.7/site-packages/tensorflow/python/keras/engine/training.py:1478 predict_function  *\n        return step_function(self, iterator)\n    /opt/conda/lib/python3.7/site-packages/tensorflow/python/keras/engine/training.py:1468 step_function  **\n        outputs = model.distribute_strategy.run(run_step, args=(data,))\n    /opt/conda/lib/python3.7/site-packages/tensorflow/python/distribute/distribute_lib.py:1259 run\n        return self._extended.call_for_each_replica(fn, args=args, kwargs=kwargs)\n    /opt/conda/lib/python3.7/site-packages/tensorflow/python/distribute/distribute_lib.py:2730 call_for_each_replica\n        return self._call_for_each_replica(fn, args, kwargs)\n    /opt/conda/lib/python3.7/site-packages/tensorflow/python/distribute/distribute_lib.py:3417 _call_for_each_replica\n        return fn(*args, **kwargs)\n    /opt/conda/lib/python3.7/site-packages/tensorflow/python/keras/engine/training.py:1461 run_step  **\n        outputs = model.predict_step(data)\n    /opt/conda/lib/python3.7/site-packages/tensorflow/python/keras/engine/training.py:1434 predict_step\n        return self(x, training=False)\n    /opt/conda/lib/python3.7/site-packages/tensorflow/python/keras/engine/base_layer.py:998 __call__\n        input_spec.assert_input_compatibility(self.input_spec, inputs, self.name)\n    /opt/conda/lib/python3.7/site-packages/tensorflow/python/keras/engine/input_spec.py:207 assert_input_compatibility\n        ' input tensors. Inputs received: ' + str(inputs))\n\n    ValueError: Layer model expects 2 input(s), but it received 1 input tensors. Inputs received: [<tf.Tensor 'IteratorGetNext:0' shape=(None, 3) dtype=float32>]\n"
     ]
    }
   ],
   "source": [
    "total = 0\n",
    "tp, fn, fp, tn = 0, 0, 0, 0\n",
    "for indx in df.index:\n",
    "    if df[\"gt_label\"][indx] == \"no_tissue\":\n",
    "        continue\n",
    "    else:\n",
    "        example = [df[\"laplacian_var\"][indx], df[\"purple_cover\"][indx], df[\"brown_cover\"][indx]]\n",
    "        label = cnn_model.predict([example])\n",
    "        label = np.argmax(label, axis=-1)[0]\n",
    "        if df[\"gt_label\"][indx] == \"out_of_focus\":\n",
    "            total += 1\n",
    "            if label == 1:\n",
    "                tp += 1\n",
    "            else:\n",
    "                fn += 1\n",
    "        else:\n",
    "            if label == 1:\n",
    "                fp += 1\n",
    "            else:\n",
    "                tn += 1"
   ]
  },
  {
   "cell_type": "code",
   "execution_count": null,
   "metadata": {},
   "outputs": [],
   "source": []
  }
 ],
 "metadata": {
  "environment": {
   "name": "common-cpu.mnightly-2021-01-05-debian-10-test",
   "type": "gcloud",
   "uri": "gcr.io/deeplearning-platform-release/base-cpu:mnightly-2021-01-05-debian-10-test"
  },
  "kernelspec": {
   "display_name": "Python 3",
   "language": "python",
   "name": "python3"
  },
  "language_info": {
   "codemirror_mode": {
    "name": "ipython",
    "version": 3
   },
   "file_extension": ".py",
   "mimetype": "text/x-python",
   "name": "python",
   "nbconvert_exporter": "python",
   "pygments_lexer": "ipython3",
   "version": "3.7.8"
  }
 },
 "nbformat": 4,
 "nbformat_minor": 4
}
