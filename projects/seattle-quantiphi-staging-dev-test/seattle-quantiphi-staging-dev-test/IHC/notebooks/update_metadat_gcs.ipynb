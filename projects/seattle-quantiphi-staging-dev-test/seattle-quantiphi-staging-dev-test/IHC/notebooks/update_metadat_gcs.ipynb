{
 "cells": [
  {
   "cell_type": "markdown",
   "metadata": {},
   "source": [
    "<h1 style=\"text-align: center; font-family: Verdana; font-size: 32px; font-style: normal; font-weight: bold; text-decoration: none; text-transform: none; font-variant: small-caps; letter-spacing: 3px; color: #000000; background-color: #ffffff;\">UPDATE TILE LEVEL METADATA</h1>\n",
    "\n",
    "<h2 style=\"text-align: center; font-family: Verdana; font-size: 14px; font-style: normal; font-weight: bold; text-decoration: underline; text-transform: none; letter-spacing: 2px; color: navy; background-color: #ffffff;\">Notebook to Assist in Perserving Information Lost When Annotating Using the AutoML Tool</h2>"
   ]
  },
  {
   "cell_type": "markdown",
   "metadata": {},
   "source": [
    "<br><br>\n",
    "\n",
    "<h2 style=\"font-family: Verdana; font-size: 24px; font-style: normal; font-weight: bold; text-decoration: none; text-transform: none; letter-spacing: 3px; color: navy; background-color: #ffffff;\">TABLE OF CONTENTS</h2>\n",
    "\n",
    "---\n",
    "\n",
    "<h3 style=\"text-indent: 10vw; font-family: Verdana; font-size: 20px; font-style: normal; font-weight: normal; text-decoration: none; text-transform: none; letter-spacing: 2px; color: navy; background-color: #ffffff;\"><a href=\"#imports\">0&nbsp;&nbsp;&nbsp;&nbsp;IMPORTS</a></h3>\n",
    "\n",
    "---\n",
    "\n",
    "<h3 style=\"text-indent: 10vw; font-family: Verdana; font-size: 20px; font-style: normal; font-weight: normal; text-decoration: none; text-transform: none; letter-spacing: 2px; color: navy; background-color: #ffffff;\"><a href=\"#setup\">1&nbsp;&nbsp;&nbsp;&nbsp;SETUP & PREPROCESSING</a></h3>\n",
    "\n",
    "---\n",
    "\n",
    "<h3 style=\"text-indent: 10vw; font-family: Verdana; font-size: 20px; font-style: normal; font-weight: normal; text-decoration: none; text-transform: none; letter-spacing: 2px; color: navy; background-color: #ffffff;\"><a href=\"#update\">2&nbsp;&nbsp;&nbsp;&nbsp;UPDATE BLOB METADATA</a></h3>\n",
    "\n",
    "---"
   ]
  },
  {
   "cell_type": "markdown",
   "metadata": {},
   "source": [
    "<br>\n",
    "\n",
    "<a style=\"font-family: Verdana; font-size: 24px; font-style: normal; font-weight: bold; text-decoration: none; text-transform: none; letter-spacing: 3px; background-color: #ffffff; color: navy;\" id=\"imports\">0&nbsp;&nbsp;IMPORTS</a>"
   ]
  },
  {
   "cell_type": "code",
   "execution_count": 24,
   "metadata": {},
   "outputs": [],
   "source": [
    "# Data Science Imports\n",
    "from sklearn.tree import _tree\n",
    "from sklearn import tree\n",
    "import pandas as pd; pd.options.mode.chained_assignment=None;\n",
    "import numpy as np\n",
    "\n",
    "# Domain Related Imports\n",
    "from google.cloud import storage\n",
    "import openslide\n",
    "import tifffile\n",
    "\n",
    "# Built-In Imports\n",
    "import math\n",
    "import PIL\n",
    "import cv2\n",
    "import os\n",
    "import gc\n",
    "\n",
    "# Utility Functions\n",
    "from utils import get_paths, get_slide_region\n",
    "from utils import tile_tiff, tile_svs\n",
    "from utils import determine_label, tile_from_path, create_automl_preannotated_csv\n",
    "\n",
    "# Visualization imports\n",
    "import matplotlib.pyplot as plt\n",
    "from tqdm.notebook import tqdm\n",
    "import seaborn as sns\n",
    "from PIL import Image"
   ]
  },
  {
   "cell_type": "markdown",
   "metadata": {},
   "source": [
    "<br>\n",
    "\n",
    "<a style=\"font-family: Verdana; font-size: 24px; font-style: normal; font-weight: bold; text-decoration: none; text-transform: none; letter-spacing: 3px; background-color: #ffffff; color: navy;\" id=\"setup\">1&nbsp;&nbsp;SETUP</a>"
   ]
  },
  {
   "cell_type": "markdown",
   "metadata": {},
   "source": [
    "<h3 style=\"font-family: Verdana; font-size: 20px; font-style: normal; font-weight: normal; text-decoration: none; text-transform: none; letter-spacing: 2px; color: navy; background-color: #ffffff; font-variant: small-caps;\">1.1  GET GCS PATHS</h3>\n",
    "\n",
    "---"
   ]
  },
  {
   "cell_type": "code",
   "execution_count": 27,
   "metadata": {},
   "outputs": [
    {
     "name": "stdout",
     "output_type": "stream",
     "text": [
      "NUMBER OF GCS PATHS TO TILES: 22594\n"
     ]
    }
   ],
   "source": [
    "GCS_TILE_DIR = \"gs://seagen-quantiphi/to-be-annotated\"\n",
    "GCS_FILE_PATHS = !gsutil ls {GCS_TILE_DIR}/**/*.png\n",
    "print(f\"NUMBER OF GCS PATHS TO TILES: {len(GCS_FILE_PATHS)}\")"
   ]
  },
  {
   "cell_type": "markdown",
   "metadata": {},
   "source": [
    "<br>\n",
    "\n",
    "<a style=\"font-family: Verdana; font-size: 24px; font-style: normal; font-weight: bold; text-decoration: none; text-transform: none; letter-spacing: 3px; background-color: #ffffff; color: navy;\" id=\"setup\">2&nbsp;&nbsp;UPDATE BLOB METADATA</a>"
   ]
  },
  {
   "cell_type": "code",
   "execution_count": 31,
   "metadata": {},
   "outputs": [
    {
     "name": "stdout",
     "output_type": "stream",
     "text": [
      "\t– The metadata for the blob to-be-annotated/dim_positive/img_033_01024_04096.png is:\n",
      "\t\t––> {'x_coord': '01024', 'slide_label': 'dim_positive', 'slide_name': 'img_033', 'y_coord': '04096'}\n",
      "\t– The metadata for the blob to-be-annotated/dim_positive/img_033_01024_05120.png is:\n",
      "\t\t––> {'x_coord': '01024', 'slide_label': 'dim_positive', 'slide_name': 'img_033', 'y_coord': '05120'}\n"
     ]
    }
   ],
   "source": [
    "def set_blob_metadata(gcs_path, verbose=False):\n",
    "    \"\"\"Set a blob's metadata\"\"\"\n",
    "    # Split path \n",
    "    #    start with ... --> gs://bucket/blob/blob/blob.png\n",
    "    #    ... becomes    --> bucket, blob/blob/blob.png\n",
    "    bucket_name, blob_name = gcs_path[5:].split(\"/\", 1)\n",
    "    \n",
    "    # Get the metadata\n",
    "    file_name = blob_name.rsplit(\"/\", 1)[1]\n",
    "    slide_name, tl_x, tl_y = file_name[:-4].rsplit(\"_\", 2)\n",
    "    metadata = {\"slide_name\": slide_name, \"x_coord\":tl_x, \"y_coord\":tl_y}\n",
    "\n",
    "    # Get the connection to the appropriate GCS path\n",
    "    storage_client = storage.Client()\n",
    "    bucket = storage_client.bucket(bucket_name)\n",
    "    blob = bucket.get_blob(blob_name)\n",
    "    \n",
    "    # Update blob\n",
    "    blob.metadata = metadata\n",
    "    blob.patch()\n",
    "\n",
    "    if verbose:\n",
    "        print(f\"\\t– The metadata for the blob {blob.name} is:\\n\\t\\t––> {blob.metadata}\")\n",
    "\n",
    "\n",
    "# See an example on the first two paths\n",
    "for gcs_path in GCS_FILE_PATHS[:2]:\n",
    "    set_blob_metadata(gcs_path, verbose=True)\n",
    "    \n",
    "# ########################################################### #\n",
    "# ######## USE THIS TO UPDATE ALL GCS FILE METADATA ######### #\n",
    "# ########################################################### #\n",
    "# for gcs_path in GCS_FILE_PATHS: set_blob_metadata(gcs_path) #\n",
    "# ########################################################### #"
   ]
  }
 ],
 "metadata": {
  "environment": {
   "name": "tf2-2-3-gpu.2-3.m59",
   "type": "gcloud",
   "uri": "gcr.io/deeplearning-platform-release/tf2-2-3-gpu.2-3:m59"
  },
  "kernelspec": {
   "display_name": "Python 3",
   "language": "python",
   "name": "python3"
  },
  "language_info": {
   "codemirror_mode": {
    "name": "ipython",
    "version": 3
   },
   "file_extension": ".py",
   "mimetype": "text/x-python",
   "name": "python",
   "nbconvert_exporter": "python",
   "pygments_lexer": "ipython3",
   "version": "3.7.8"
  }
 },
 "nbformat": 4,
 "nbformat_minor": 4
}
